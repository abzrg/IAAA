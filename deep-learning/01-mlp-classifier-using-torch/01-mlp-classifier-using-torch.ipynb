{
 "cells": [
  {
   "cell_type": "markdown",
   "metadata": {},
   "source": [
    "# Fashion MNIST\n",
    "\n",
    "This is a modified version of the example code in the course."
   ]
  },
  {
   "cell_type": "code",
   "execution_count": 33,
   "metadata": {},
   "outputs": [],
   "source": [
    "import os\n",
    "import shutil\n",
    "import sys\n",
    "\n",
    "assert sys.version_info >= (3, 8), \"This project requires Python 3.8+\""
   ]
  },
  {
   "cell_type": "code",
   "execution_count": 34,
   "metadata": {},
   "outputs": [],
   "source": [
    "from packaging import version\n",
    "import torch"
   ]
  },
  {
   "cell_type": "code",
   "execution_count": 35,
   "metadata": {},
   "outputs": [],
   "source": [
    "assert version.parse(torch.__version__) >= version.parse(\n",
    "    \"2.1.2\"\n",
    "), \"This project requires pytorch 2.1.1 or above!\""
   ]
  },
  {
   "cell_type": "code",
   "execution_count": 36,
   "metadata": {},
   "outputs": [
    {
     "name": "stdout",
     "output_type": "stream",
     "text": [
      "Note: not using Google CoLab\n",
      "Using device: mps\n"
     ]
    }
   ],
   "source": [
    "# src: https://youtu.be/lS0vvIWiahU\n",
    "try:\n",
    "    import google.colab\n",
    "\n",
    "    COLAB = True\n",
    "    print(\"Note: using Google CoLab\")\n",
    "except:\n",
    "    print(\"Note: not using Google CoLab\")\n",
    "    COLAB = False\n",
    "\n",
    "# Make use of a GPU or MPS (Apple) if one is available\n",
    "device = (\n",
    "    \"mps\" if torch.backends.mps.is_built() else \"cuda\" if torch.backends.cuda.is_built() else \"cpu\"\n",
    ")\n",
    "\n",
    "print(f\"Using device: {device}\")"
   ]
  },
  {
   "cell_type": "code",
   "execution_count": 37,
   "metadata": {},
   "outputs": [],
   "source": [
    "%matplotlib inline\n",
    "%config InlineBackend.figure_format = \"svg\"\n",
    "\n",
    "import matplotlib.pyplot as plt\n",
    "\n",
    "plt.rc(\"font\", size=14)\n",
    "plt.rc(\"axes\", labelsize=14, titlesize=14)\n",
    "plt.rc(\"legend\", fontsize=14)\n",
    "plt.rc(\"xtick\", labelsize=10)\n",
    "plt.rc(\"ytick\", labelsize=10)"
   ]
  },
  {
   "cell_type": "code",
   "execution_count": 38,
   "metadata": {},
   "outputs": [
    {
     "data": {
      "text/plain": [
       "<torch._C.Generator at 0x11e50dcf0>"
      ]
     },
     "execution_count": 38,
     "metadata": {},
     "output_type": "execute_result"
    }
   ],
   "source": [
    "from torch import nn, optim\n",
    "from torch.utils.data import DataLoader\n",
    "from torchvision import datasets\n",
    "from torchvision.transforms import ToTensor\n",
    "from tqdm import tqdm\n",
    "\n",
    "torch.random.manual_seed(42)"
   ]
  },
  {
   "cell_type": "markdown",
   "metadata": {},
   "source": [
    "## Data sets and Data Loader\n",
    "\n",
    "Code for processing data samples can get messy and hard to maintain; we ideally want our dataset code to be decoupled from our model training code for better readability and modularity. PyTorch provides two data primitives: `torch.utils.data.DataLoader` and `torch.utils.data.Dataset` that allow you to use pre-loaded datasets as well as your own data. Dataset stores the samples and their corresponding labels, and DataLoader wraps an iterable around the Dataset to enable easy access to the samples.\n",
    "\n",
    "PyTorch domain libraries provide a number of pre-loaded datasets (such as FashionMNIST) that subclass `torch.utils.data.Dataset` and implement functions specific to the particular data. They can be used to prototype and benchmark your model. You can find them here: Image Datasets, Text Datasets, and Audio Datasets\n"
   ]
  },
  {
   "cell_type": "code",
   "execution_count": 39,
   "metadata": {},
   "outputs": [],
   "source": [
    "from torch.utils.data import random_split\n",
    "\n",
    "train_dataset = datasets.FashionMNIST(\n",
    "    root=\"./data\", train=True, download=True, transform=ToTensor()\n",
    ")\n",
    "test_ds = datasets.FashionMNIST(root=\"./data\", train=False, download=True, transform=ToTensor())\n",
    "\n",
    "train_ds, val_ds = random_split(train_dataset, [50000, 10000])"
   ]
  },
  {
   "cell_type": "code",
   "execution_count": 40,
   "metadata": {},
   "outputs": [
    {
     "name": "stdout",
     "output_type": "stream",
     "text": [
      "train+val size:  torch.Size([60000, 28, 28])\n",
      "test size:  torch.Size([10000, 28, 28])\n"
     ]
    }
   ],
   "source": [
    "print(\"train+val size: \", train_dataset.data.shape)\n",
    "print(\"test size: \", test_ds.data.shape)"
   ]
  },
  {
   "cell_type": "code",
   "execution_count": 41,
   "metadata": {},
   "outputs": [],
   "source": [
    "# Hyper parameters\n",
    "input_size = [*train_dataset.data.shape[1:]]\n",
    "number_epochs = 10\n",
    "batch_size = 32\n",
    "learning_rate = 0.01"
   ]
  },
  {
   "cell_type": "code",
   "execution_count": 42,
   "metadata": {},
   "outputs": [],
   "source": [
    "# Iterable object generated by DataLoader\n",
    "train_dloader = DataLoader(train_ds, batch_size=batch_size, shuffle=True)\n",
    "val_dloader = DataLoader(val_ds, batch_size=batch_size, shuffle=True)\n",
    "test_dloader = DataLoader(test_ds, batch_size=batch_size)  # Doesn't have to get shuffled"
   ]
  },
  {
   "cell_type": "code",
   "execution_count": 43,
   "metadata": {},
   "outputs": [
    {
     "name": "stdout",
     "output_type": "stream",
     "text": [
      "Data:\t torch.Size([32, 1, 28, 28])\n",
      "Label:\t torch.Size([32])\n"
     ]
    }
   ],
   "source": [
    "# - DataLoader makes iterable object out of DataSets\n",
    "#   - the iterable (`getitem` dunder) will return both _data_ and the corresponding _label_\n",
    "data, label = next(iter(train_dloader))\n",
    "print(\"Data:\\t\", data.size())\n",
    "print(\"Label:\\t\", label.size())"
   ]
  },
  {
   "cell_type": "code",
   "execution_count": 44,
   "metadata": {},
   "outputs": [
    {
     "name": "stderr",
     "output_type": "stream",
     "text": [
      "100%|██████████| 9/9 [00:00<00:00, 176.13it/s]\n"
     ]
    },
    {
     "data": {
      "image/svg+xml": [
       "<?xml version=\"1.0\" encoding=\"utf-8\" standalone=\"no\"?>\n",
       "<!DOCTYPE svg PUBLIC \"-//W3C//DTD SVG 1.1//EN\"\n",
       "  \"http://www.w3.org/Graphics/SVG/1.1/DTD/svg11.dtd\">\n",
       "<svg xmlns:xlink=\"http://www.w3.org/1999/xlink\" width=\"459.952941pt\" height=\"474.557812pt\" viewBox=\"0 0 459.952941 474.557812\" xmlns=\"http://www.w3.org/2000/svg\" version=\"1.1\">\n",
       " <metadata>\n",
       "  <rdf:RDF xmlns:dc=\"http://purl.org/dc/elements/1.1/\" xmlns:cc=\"http://creativecommons.org/ns#\" xmlns:rdf=\"http://www.w3.org/1999/02/22-rdf-syntax-ns#\">\n",
       "   <cc:Work>\n",
       "    <dc:type rdf:resource=\"http://purl.org/dc/dcmitype/StillImage\"/>\n",
       "    <dc:date>2024-08-25T00:02:57.698358</dc:date>\n",
       "    <dc:format>image/svg+xml</dc:format>\n",
       "    <dc:creator>\n",
       "     <cc:Agent>\n",
       "      <dc:title>Matplotlib v3.8.3, https://matplotlib.org/</dc:title>\n",
       "     </cc:Agent>\n",
       "    </dc:creator>\n",
       "   </cc:Work>\n",
       "  </rdf:RDF>\n",
       " </metadata>\n",
       " <defs>\n",
       "  <style type=\"text/css\">*{stroke-linejoin: round; stroke-linecap: butt}</style>\n",
       " </defs>\n",
       " <g id=\"figure_1\">\n",
       "  <g id=\"patch_1\">\n",
       "   <path d=\"M 0 474.557812 \n",
       "L 459.952941 474.557812 \n",
       "L 459.952941 0 \n",
       "L 0 0 \n",
       "z\n",
       "\" style=\"fill: #ffffff\"/>\n",
       "  </g>\n",
       "  <g id=\"axes_1\">\n",
       "   <g clip-path=\"url(#pb93e379279)\">\n",
       "    <image xlink:href=\"data:image/png;base64,\n",
       "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\" id=\"imagee7fb76cd28\" transform=\"scale(1 -1) translate(0 -131.04)\" x=\"7.2\" y=\"-23.244871\" width=\"131.04\" height=\"131.04\"/>\n",
       "   </g>\n",
       "   <g id=\"text_1\">\n",
       "    <!-- T-Shirt -->\n",
       "    <g transform=\"translate(49.814623 17.837812) scale(0.14 -0.14)\">\n",
       "     <defs>\n",
       "      <path id=\"DejaVuSans-54\" d=\"M -19 4666 \n",
       "L 3928 4666 \n",
       "L 3928 4134 \n",
       "L 2272 4134 \n",
       "L 2272 0 \n",
       "L 1638 0 \n",
       "L 1638 4134 \n",
       "L -19 4134 \n",
       "L -19 4666 \n",
       "z\n",
       "\" transform=\"scale(0.015625)\"/>\n",
       "      <path id=\"DejaVuSans-2d\" d=\"M 313 2009 \n",
       "L 1997 2009 \n",
       "L 1997 1497 \n",
       "L 313 1497 \n",
       "L 313 2009 \n",
       "z\n",
       "\" transform=\"scale(0.015625)\"/>\n",
       "      <path id=\"DejaVuSans-53\" d=\"M 3425 4513 \n",
       "L 3425 3897 \n",
       "Q 3066 4069 2747 4153 \n",
       "Q 2428 4238 2131 4238 \n",
       "Q 1616 4238 1336 4038 \n",
       "Q 1056 3838 1056 3469 \n",
       "Q 1056 3159 1242 3001 \n",
       "Q 1428 2844 1947 2747 \n",
       "L 2328 2669 \n",
       "Q 3034 2534 3370 2195 \n",
       "Q 3706 1856 3706 1288 \n",
       "Q 3706 609 3251 259 \n",
       "Q 2797 -91 1919 -91 \n",
       "Q 1588 -91 1214 -16 \n",
       "Q 841 59 441 206 \n",
       "L 441 856 \n",
       "Q 825 641 1194 531 \n",
       "Q 1563 422 1919 422 \n",
       "Q 2459 422 2753 634 \n",
       "Q 3047 847 3047 1241 \n",
       "Q 3047 1584 2836 1778 \n",
       "Q 2625 1972 2144 2069 \n",
       "L 1759 2144 \n",
       "Q 1053 2284 737 2584 \n",
       "Q 422 2884 422 3419 \n",
       "Q 422 4038 858 4394 \n",
       "Q 1294 4750 2059 4750 \n",
       "Q 2388 4750 2728 4690 \n",
       "Q 3069 4631 3425 4513 \n",
       "z\n",
       "\" transform=\"scale(0.015625)\"/>\n",
       "      <path id=\"DejaVuSans-68\" d=\"M 3513 2113 \n",
       "L 3513 0 \n",
       "L 2938 0 \n",
       "L 2938 2094 \n",
       "Q 2938 2591 2744 2837 \n",
       "Q 2550 3084 2163 3084 \n",
       "Q 1697 3084 1428 2787 \n",
       "Q 1159 2491 1159 1978 \n",
       "L 1159 0 \n",
       "L 581 0 \n",
       "L 581 4863 \n",
       "L 1159 4863 \n",
       "L 1159 2956 \n",
       "Q 1366 3272 1645 3428 \n",
       "Q 1925 3584 2291 3584 \n",
       "Q 2894 3584 3203 3211 \n",
       "Q 3513 2838 3513 2113 \n",
       "z\n",
       "\" transform=\"scale(0.015625)\"/>\n",
       "      <path id=\"DejaVuSans-69\" d=\"M 603 3500 \n",
       "L 1178 3500 \n",
       "L 1178 0 \n",
       "L 603 0 \n",
       "L 603 3500 \n",
       "z\n",
       "M 603 4863 \n",
       "L 1178 4863 \n",
       "L 1178 4134 \n",
       "L 603 4134 \n",
       "L 603 4863 \n",
       "z\n",
       "\" transform=\"scale(0.015625)\"/>\n",
       "      <path id=\"DejaVuSans-72\" d=\"M 2631 2963 \n",
       "Q 2534 3019 2420 3045 \n",
       "Q 2306 3072 2169 3072 \n",
       "Q 1681 3072 1420 2755 \n",
       "Q 1159 2438 1159 1844 \n",
       "L 1159 0 \n",
       "L 581 0 \n",
       "L 581 3500 \n",
       "L 1159 3500 \n",
       "L 1159 2956 \n",
       "Q 1341 3275 1631 3429 \n",
       "Q 1922 3584 2338 3584 \n",
       "Q 2397 3584 2469 3576 \n",
       "Q 2541 3569 2628 3553 \n",
       "L 2631 2963 \n",
       "z\n",
       "\" transform=\"scale(0.015625)\"/>\n",
       "      <path id=\"DejaVuSans-74\" d=\"M 1172 4494 \n",
       "L 1172 3500 \n",
       "L 2356 3500 \n",
       "L 2356 3053 \n",
       "L 1172 3053 \n",
       "L 1172 1153 \n",
       "Q 1172 725 1289 603 \n",
       "Q 1406 481 1766 481 \n",
       "L 2356 481 \n",
       "L 2356 0 \n",
       "L 1766 0 \n",
       "Q 1100 0 847 248 \n",
       "Q 594 497 594 1153 \n",
       "L 594 3053 \n",
       "L 172 3053 \n",
       "L 172 3500 \n",
       "L 594 3500 \n",
       "L 594 4494 \n",
       "L 1172 4494 \n",
       "z\n",
       "\" transform=\"scale(0.015625)\"/>\n",
       "     </defs>\n",
       "     <use xlink:href=\"#DejaVuSans-54\"/>\n",
       "     <use xlink:href=\"#DejaVuSans-2d\" x=\"51.958984\"/>\n",
       "     <use xlink:href=\"#DejaVuSans-53\" x=\"88.042969\"/>\n",
       "     <use xlink:href=\"#DejaVuSans-68\" x=\"151.519531\"/>\n",
       "     <use xlink:href=\"#DejaVuSans-69\" x=\"214.898438\"/>\n",
       "     <use xlink:href=\"#DejaVuSans-72\" x=\"242.681641\"/>\n",
       "     <use xlink:href=\"#DejaVuSans-74\" x=\"283.794922\"/>\n",
       "    </g>\n",
       "   </g>\n",
       "  </g>\n",
       "  <g id=\"axes_2\">\n",
       "   <g clip-path=\"url(#p4478a06521)\">\n",
       "    <image xlink:href=\"data:image/png;base64,\n",
       "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\" id=\"imagef4dd560bdf\" transform=\"scale(1 -1) translate(0 -131.04)\" x=\"164.752941\" y=\"-23.244871\" width=\"131.04\" height=\"131.04\"/>\n",
       "   </g>\n",
       "   <g id=\"text_2\">\n",
       "    <!-- Ankle Boot -->\n",
       "    <g transform=\"translate(192.108658 17.837812) scale(0.14 -0.14)\">\n",
       "     <defs>\n",
       "      <path id=\"DejaVuSans-41\" d=\"M 2188 4044 \n",
       "L 1331 1722 \n",
       "L 3047 1722 \n",
       "L 2188 4044 \n",
       "z\n",
       "M 1831 4666 \n",
       "L 2547 4666 \n",
       "L 4325 0 \n",
       "L 3669 0 \n",
       "L 3244 1197 \n",
       "L 1141 1197 \n",
       "L 716 0 \n",
       "L 50 0 \n",
       "L 1831 4666 \n",
       "z\n",
       "\" transform=\"scale(0.015625)\"/>\n",
       "      <path id=\"DejaVuSans-6e\" d=\"M 3513 2113 \n",
       "L 3513 0 \n",
       "L 2938 0 \n",
       "L 2938 2094 \n",
       "Q 2938 2591 2744 2837 \n",
       "Q 2550 3084 2163 3084 \n",
       "Q 1697 3084 1428 2787 \n",
       "Q 1159 2491 1159 1978 \n",
       "L 1159 0 \n",
       "L 581 0 \n",
       "L 581 3500 \n",
       "L 1159 3500 \n",
       "L 1159 2956 \n",
       "Q 1366 3272 1645 3428 \n",
       "Q 1925 3584 2291 3584 \n",
       "Q 2894 3584 3203 3211 \n",
       "Q 3513 2838 3513 2113 \n",
       "z\n",
       "\" transform=\"scale(0.015625)\"/>\n",
       "      <path id=\"DejaVuSans-6b\" d=\"M 581 4863 \n",
       "L 1159 4863 \n",
       "L 1159 1991 \n",
       "L 2875 3500 \n",
       "L 3609 3500 \n",
       "L 1753 1863 \n",
       "L 3688 0 \n",
       "L 2938 0 \n",
       "L 1159 1709 \n",
       "L 1159 0 \n",
       "L 581 0 \n",
       "L 581 4863 \n",
       "z\n",
       "\" transform=\"scale(0.015625)\"/>\n",
       "      <path id=\"DejaVuSans-6c\" d=\"M 603 4863 \n",
       "L 1178 4863 \n",
       "L 1178 0 \n",
       "L 603 0 \n",
       "L 603 4863 \n",
       "z\n",
       "\" transform=\"scale(0.015625)\"/>\n",
       "      <path id=\"DejaVuSans-65\" d=\"M 3597 1894 \n",
       "L 3597 1613 \n",
       "L 953 1613 \n",
       "Q 991 1019 1311 708 \n",
       "Q 1631 397 2203 397 \n",
       "Q 2534 397 2845 478 \n",
       "Q 3156 559 3463 722 \n",
       "L 3463 178 \n",
       "Q 3153 47 2828 -22 \n",
       "Q 2503 -91 2169 -91 \n",
       "Q 1331 -91 842 396 \n",
       "Q 353 884 353 1716 \n",
       "Q 353 2575 817 3079 \n",
       "Q 1281 3584 2069 3584 \n",
       "Q 2775 3584 3186 3129 \n",
       "Q 3597 2675 3597 1894 \n",
       "z\n",
       "M 3022 2063 \n",
       "Q 3016 2534 2758 2815 \n",
       "Q 2500 3097 2075 3097 \n",
       "Q 1594 3097 1305 2825 \n",
       "Q 1016 2553 972 2059 \n",
       "L 3022 2063 \n",
       "z\n",
       "\" transform=\"scale(0.015625)\"/>\n",
       "      <path id=\"DejaVuSans-20\" transform=\"scale(0.015625)\"/>\n",
       "      <path id=\"DejaVuSans-42\" d=\"M 1259 2228 \n",
       "L 1259 519 \n",
       "L 2272 519 \n",
       "Q 2781 519 3026 730 \n",
       "Q 3272 941 3272 1375 \n",
       "Q 3272 1813 3026 2020 \n",
       "Q 2781 2228 2272 2228 \n",
       "L 1259 2228 \n",
       "z\n",
       "M 1259 4147 \n",
       "L 1259 2741 \n",
       "L 2194 2741 \n",
       "Q 2656 2741 2882 2914 \n",
       "Q 3109 3088 3109 3444 \n",
       "Q 3109 3797 2882 3972 \n",
       "Q 2656 4147 2194 4147 \n",
       "L 1259 4147 \n",
       "z\n",
       "M 628 4666 \n",
       "L 2241 4666 \n",
       "Q 2963 4666 3353 4366 \n",
       "Q 3744 4066 3744 3513 \n",
       "Q 3744 3084 3544 2831 \n",
       "Q 3344 2578 2956 2516 \n",
       "Q 3422 2416 3680 2098 \n",
       "Q 3938 1781 3938 1306 \n",
       "Q 3938 681 3513 340 \n",
       "Q 3088 0 2303 0 \n",
       "L 628 0 \n",
       "L 628 4666 \n",
       "z\n",
       "\" transform=\"scale(0.015625)\"/>\n",
       "      <path id=\"DejaVuSans-6f\" d=\"M 1959 3097 \n",
       "Q 1497 3097 1228 2736 \n",
       "Q 959 2375 959 1747 \n",
       "Q 959 1119 1226 758 \n",
       "Q 1494 397 1959 397 \n",
       "Q 2419 397 2687 759 \n",
       "Q 2956 1122 2956 1747 \n",
       "Q 2956 2369 2687 2733 \n",
       "Q 2419 3097 1959 3097 \n",
       "z\n",
       "M 1959 3584 \n",
       "Q 2709 3584 3137 3096 \n",
       "Q 3566 2609 3566 1747 \n",
       "Q 3566 888 3137 398 \n",
       "Q 2709 -91 1959 -91 \n",
       "Q 1206 -91 779 398 \n",
       "Q 353 888 353 1747 \n",
       "Q 353 2609 779 3096 \n",
       "Q 1206 3584 1959 3584 \n",
       "z\n",
       "\" transform=\"scale(0.015625)\"/>\n",
       "     </defs>\n",
       "     <use xlink:href=\"#DejaVuSans-41\"/>\n",
       "     <use xlink:href=\"#DejaVuSans-6e\" x=\"68.408203\"/>\n",
       "     <use xlink:href=\"#DejaVuSans-6b\" x=\"131.787109\"/>\n",
       "     <use xlink:href=\"#DejaVuSans-6c\" x=\"189.697266\"/>\n",
       "     <use xlink:href=\"#DejaVuSans-65\" x=\"217.480469\"/>\n",
       "     <use xlink:href=\"#DejaVuSans-20\" x=\"279.003906\"/>\n",
       "     <use xlink:href=\"#DejaVuSans-42\" x=\"310.791016\"/>\n",
       "     <use xlink:href=\"#DejaVuSans-6f\" x=\"379.394531\"/>\n",
       "     <use xlink:href=\"#DejaVuSans-6f\" x=\"440.576172\"/>\n",
       "     <use xlink:href=\"#DejaVuSans-74\" x=\"501.757812\"/>\n",
       "    </g>\n",
       "   </g>\n",
       "  </g>\n",
       "  <g id=\"axes_3\">\n",
       "   <g clip-path=\"url(#p6aaed9922f)\">\n",
       "    <image xlink:href=\"data:image/png;base64,\n",
       "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\" id=\"image3f69d46dbf\" transform=\"scale(1 -1) translate(0 -131.04)\" x=\"322.305882\" y=\"-23.244871\" width=\"131.04\" height=\"131.04\"/>\n",
       "   </g>\n",
       "   <g id=\"text_3\">\n",
       "    <!-- Pullover -->\n",
       "    <g transform=\"translate(359.494412 17.837812) scale(0.14 -0.14)\">\n",
       "     <defs>\n",
       "      <path id=\"DejaVuSans-50\" d=\"M 1259 4147 \n",
       "L 1259 2394 \n",
       "L 2053 2394 \n",
       "Q 2494 2394 2734 2622 \n",
       "Q 2975 2850 2975 3272 \n",
       "Q 2975 3691 2734 3919 \n",
       "Q 2494 4147 2053 4147 \n",
       "L 1259 4147 \n",
       "z\n",
       "M 628 4666 \n",
       "L 2053 4666 \n",
       "Q 2838 4666 3239 4311 \n",
       "Q 3641 3956 3641 3272 \n",
       "Q 3641 2581 3239 2228 \n",
       "Q 2838 1875 2053 1875 \n",
       "L 1259 1875 \n",
       "L 1259 0 \n",
       "L 628 0 \n",
       "L 628 4666 \n",
       "z\n",
       "\" transform=\"scale(0.015625)\"/>\n",
       "      <path id=\"DejaVuSans-75\" d=\"M 544 1381 \n",
       "L 544 3500 \n",
       "L 1119 3500 \n",
       "L 1119 1403 \n",
       "Q 1119 906 1312 657 \n",
       "Q 1506 409 1894 409 \n",
       "Q 2359 409 2629 706 \n",
       "Q 2900 1003 2900 1516 \n",
       "L 2900 3500 \n",
       "L 3475 3500 \n",
       "L 3475 0 \n",
       "L 2900 0 \n",
       "L 2900 538 \n",
       "Q 2691 219 2414 64 \n",
       "Q 2138 -91 1772 -91 \n",
       "Q 1169 -91 856 284 \n",
       "Q 544 659 544 1381 \n",
       "z\n",
       "M 1991 3584 \n",
       "L 1991 3584 \n",
       "z\n",
       "\" transform=\"scale(0.015625)\"/>\n",
       "      <path id=\"DejaVuSans-76\" d=\"M 191 3500 \n",
       "L 800 3500 \n",
       "L 1894 563 \n",
       "L 2988 3500 \n",
       "L 3597 3500 \n",
       "L 2284 0 \n",
       "L 1503 0 \n",
       "L 191 3500 \n",
       "z\n",
       "\" transform=\"scale(0.015625)\"/>\n",
       "     </defs>\n",
       "     <use xlink:href=\"#DejaVuSans-50\"/>\n",
       "     <use xlink:href=\"#DejaVuSans-75\" x=\"58.552734\"/>\n",
       "     <use xlink:href=\"#DejaVuSans-6c\" x=\"121.931641\"/>\n",
       "     <use xlink:href=\"#DejaVuSans-6c\" x=\"149.714844\"/>\n",
       "     <use xlink:href=\"#DejaVuSans-6f\" x=\"177.498047\"/>\n",
       "     <use xlink:href=\"#DejaVuSans-76\" x=\"238.679688\"/>\n",
       "     <use xlink:href=\"#DejaVuSans-65\" x=\"297.859375\"/>\n",
       "     <use xlink:href=\"#DejaVuSans-72\" x=\"359.382812\"/>\n",
       "    </g>\n",
       "   </g>\n",
       "  </g>\n",
       "  <g id=\"axes_4\">\n",
       "   <g clip-path=\"url(#pb4a164a00e)\">\n",
       "    <image xlink:href=\"data:image/png;base64,\n",
       "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\" id=\"image5161f759c5\" transform=\"scale(1 -1) translate(0 -131.04)\" x=\"7.2\" y=\"-179.781342\" width=\"131.04\" height=\"131.04\"/>\n",
       "   </g>\n",
       "   <g id=\"text_4\">\n",
       "    <!-- Sneaker -->\n",
       "    <g transform=\"translate(43.961967 174.374283) scale(0.14 -0.14)\">\n",
       "     <defs>\n",
       "      <path id=\"DejaVuSans-61\" d=\"M 2194 1759 \n",
       "Q 1497 1759 1228 1600 \n",
       "Q 959 1441 959 1056 \n",
       "Q 959 750 1161 570 \n",
       "Q 1363 391 1709 391 \n",
       "Q 2188 391 2477 730 \n",
       "Q 2766 1069 2766 1631 \n",
       "L 2766 1759 \n",
       "L 2194 1759 \n",
       "z\n",
       "M 3341 1997 \n",
       "L 3341 0 \n",
       "L 2766 0 \n",
       "L 2766 531 \n",
       "Q 2569 213 2275 61 \n",
       "Q 1981 -91 1556 -91 \n",
       "Q 1019 -91 701 211 \n",
       "Q 384 513 384 1019 \n",
       "Q 384 1609 779 1909 \n",
       "Q 1175 2209 1959 2209 \n",
       "L 2766 2209 \n",
       "L 2766 2266 \n",
       "Q 2766 2663 2505 2880 \n",
       "Q 2244 3097 1772 3097 \n",
       "Q 1472 3097 1187 3025 \n",
       "Q 903 2953 641 2809 \n",
       "L 641 3341 \n",
       "Q 956 3463 1253 3523 \n",
       "Q 1550 3584 1831 3584 \n",
       "Q 2591 3584 2966 3190 \n",
       "Q 3341 2797 3341 1997 \n",
       "z\n",
       "\" transform=\"scale(0.015625)\"/>\n",
       "     </defs>\n",
       "     <use xlink:href=\"#DejaVuSans-53\"/>\n",
       "     <use xlink:href=\"#DejaVuSans-6e\" x=\"63.476562\"/>\n",
       "     <use xlink:href=\"#DejaVuSans-65\" x=\"126.855469\"/>\n",
       "     <use xlink:href=\"#DejaVuSans-61\" x=\"188.378906\"/>\n",
       "     <use xlink:href=\"#DejaVuSans-6b\" x=\"249.658203\"/>\n",
       "     <use xlink:href=\"#DejaVuSans-65\" x=\"303.943359\"/>\n",
       "     <use xlink:href=\"#DejaVuSans-72\" x=\"365.466797\"/>\n",
       "    </g>\n",
       "   </g>\n",
       "  </g>\n",
       "  <g id=\"axes_5\">\n",
       "   <g clip-path=\"url(#pae0c550305)\">\n",
       "    <image xlink:href=\"data:image/png;base64,\n",
       "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\" id=\"image95831a310b\" transform=\"scale(1 -1) translate(0 -131.04)\" x=\"164.752941\" y=\"-179.781342\" width=\"131.04\" height=\"131.04\"/>\n",
       "   </g>\n",
       "   <g id=\"text_5\">\n",
       "    <!-- Pullover -->\n",
       "    <g transform=\"translate(201.941471 174.374283) scale(0.14 -0.14)\">\n",
       "     <use xlink:href=\"#DejaVuSans-50\"/>\n",
       "     <use xlink:href=\"#DejaVuSans-75\" x=\"58.552734\"/>\n",
       "     <use xlink:href=\"#DejaVuSans-6c\" x=\"121.931641\"/>\n",
       "     <use xlink:href=\"#DejaVuSans-6c\" x=\"149.714844\"/>\n",
       "     <use xlink:href=\"#DejaVuSans-6f\" x=\"177.498047\"/>\n",
       "     <use xlink:href=\"#DejaVuSans-76\" x=\"238.679688\"/>\n",
       "     <use xlink:href=\"#DejaVuSans-65\" x=\"297.859375\"/>\n",
       "     <use xlink:href=\"#DejaVuSans-72\" x=\"359.382812\"/>\n",
       "    </g>\n",
       "   </g>\n",
       "  </g>\n",
       "  <g id=\"axes_6\">\n",
       "   <g clip-path=\"url(#pf3547550c1)\">\n",
       "    <image xlink:href=\"data:image/png;base64,\n",
       "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\" id=\"image23ecb78a70\" transform=\"scale(1 -1) translate(0 -131.04)\" x=\"322.305882\" y=\"-179.781342\" width=\"131.04\" height=\"131.04\"/>\n",
       "   </g>\n",
       "   <g id=\"text_6\">\n",
       "    <!-- Ankle Boot -->\n",
       "    <g transform=\"translate(349.661599 174.374283) scale(0.14 -0.14)\">\n",
       "     <use xlink:href=\"#DejaVuSans-41\"/>\n",
       "     <use xlink:href=\"#DejaVuSans-6e\" x=\"68.408203\"/>\n",
       "     <use xlink:href=\"#DejaVuSans-6b\" x=\"131.787109\"/>\n",
       "     <use xlink:href=\"#DejaVuSans-6c\" x=\"189.697266\"/>\n",
       "     <use xlink:href=\"#DejaVuSans-65\" x=\"217.480469\"/>\n",
       "     <use xlink:href=\"#DejaVuSans-20\" x=\"279.003906\"/>\n",
       "     <use xlink:href=\"#DejaVuSans-42\" x=\"310.791016\"/>\n",
       "     <use xlink:href=\"#DejaVuSans-6f\" x=\"379.394531\"/>\n",
       "     <use xlink:href=\"#DejaVuSans-6f\" x=\"440.576172\"/>\n",
       "     <use xlink:href=\"#DejaVuSans-74\" x=\"501.757812\"/>\n",
       "    </g>\n",
       "   </g>\n",
       "  </g>\n",
       "  <g id=\"axes_7\">\n",
       "   <g clip-path=\"url(#pa9028e4a4e)\">\n",
       "    <image xlink:href=\"data:image/png;base64,\n",
       "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\" id=\"imaged917c5ce8a\" transform=\"scale(1 -1) translate(0 -131.04)\" x=\"7.2\" y=\"-336.317812\" width=\"131.04\" height=\"131.04\"/>\n",
       "   </g>\n",
       "   <g id=\"text_7\">\n",
       "    <!-- Coat -->\n",
       "    <g transform=\"translate(56.218529 330.910754) scale(0.14 -0.14)\">\n",
       "     <defs>\n",
       "      <path id=\"DejaVuSans-43\" d=\"M 4122 4306 \n",
       "L 4122 3641 \n",
       "Q 3803 3938 3442 4084 \n",
       "Q 3081 4231 2675 4231 \n",
       "Q 1875 4231 1450 3742 \n",
       "Q 1025 3253 1025 2328 \n",
       "Q 1025 1406 1450 917 \n",
       "Q 1875 428 2675 428 \n",
       "Q 3081 428 3442 575 \n",
       "Q 3803 722 4122 1019 \n",
       "L 4122 359 \n",
       "Q 3791 134 3420 21 \n",
       "Q 3050 -91 2638 -91 \n",
       "Q 1578 -91 968 557 \n",
       "Q 359 1206 359 2328 \n",
       "Q 359 3453 968 4101 \n",
       "Q 1578 4750 2638 4750 \n",
       "Q 3056 4750 3426 4639 \n",
       "Q 3797 4528 4122 4306 \n",
       "z\n",
       "\" transform=\"scale(0.015625)\"/>\n",
       "     </defs>\n",
       "     <use xlink:href=\"#DejaVuSans-43\"/>\n",
       "     <use xlink:href=\"#DejaVuSans-6f\" x=\"69.824219\"/>\n",
       "     <use xlink:href=\"#DejaVuSans-61\" x=\"131.005859\"/>\n",
       "     <use xlink:href=\"#DejaVuSans-74\" x=\"192.285156\"/>\n",
       "    </g>\n",
       "   </g>\n",
       "  </g>\n",
       "  <g id=\"axes_8\">\n",
       "   <g clip-path=\"url(#pa410c1550b)\">\n",
       "    <image xlink:href=\"data:image/png;base64,\n",
       "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\" id=\"image0010fc420b\" transform=\"scale(1 -1) translate(0 -131.04)\" x=\"164.752941\" y=\"-336.317812\" width=\"131.04\" height=\"131.04\"/>\n",
       "   </g>\n",
       "   <g id=\"text_8\">\n",
       "    <!-- Pullover -->\n",
       "    <g transform=\"translate(201.941471 330.910754) scale(0.14 -0.14)\">\n",
       "     <use xlink:href=\"#DejaVuSans-50\"/>\n",
       "     <use xlink:href=\"#DejaVuSans-75\" x=\"58.552734\"/>\n",
       "     <use xlink:href=\"#DejaVuSans-6c\" x=\"121.931641\"/>\n",
       "     <use xlink:href=\"#DejaVuSans-6c\" x=\"149.714844\"/>\n",
       "     <use xlink:href=\"#DejaVuSans-6f\" x=\"177.498047\"/>\n",
       "     <use xlink:href=\"#DejaVuSans-76\" x=\"238.679688\"/>\n",
       "     <use xlink:href=\"#DejaVuSans-65\" x=\"297.859375\"/>\n",
       "     <use xlink:href=\"#DejaVuSans-72\" x=\"359.382812\"/>\n",
       "    </g>\n",
       "   </g>\n",
       "  </g>\n",
       "  <g id=\"axes_9\">\n",
       "   <g clip-path=\"url(#p238259b103)\">\n",
       "    <image xlink:href=\"data:image/png;base64,\n",
       "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\" id=\"imagea7ff92f672\" transform=\"scale(1 -1) translate(0 -131.04)\" x=\"322.305882\" y=\"-336.317812\" width=\"131.04\" height=\"131.04\"/>\n",
       "   </g>\n",
       "   <g id=\"text_9\">\n",
       "    <!-- Coat -->\n",
       "    <g transform=\"translate(371.324412 330.910754) scale(0.14 -0.14)\">\n",
       "     <use xlink:href=\"#DejaVuSans-43\"/>\n",
       "     <use xlink:href=\"#DejaVuSans-6f\" x=\"69.824219\"/>\n",
       "     <use xlink:href=\"#DejaVuSans-61\" x=\"131.005859\"/>\n",
       "     <use xlink:href=\"#DejaVuSans-74\" x=\"192.285156\"/>\n",
       "    </g>\n",
       "   </g>\n",
       "  </g>\n",
       " </g>\n",
       " <defs>\n",
       "  <clipPath id=\"pb93e379279\">\n",
       "   <rect x=\"7.2\" y=\"23.837812\" width=\"130.447059\" height=\"130.447059\"/>\n",
       "  </clipPath>\n",
       "  <clipPath id=\"p4478a06521\">\n",
       "   <rect x=\"164.752941\" y=\"23.837812\" width=\"130.447059\" height=\"130.447059\"/>\n",
       "  </clipPath>\n",
       "  <clipPath id=\"p6aaed9922f\">\n",
       "   <rect x=\"322.305882\" y=\"23.837812\" width=\"130.447059\" height=\"130.447059\"/>\n",
       "  </clipPath>\n",
       "  <clipPath id=\"pb4a164a00e\">\n",
       "   <rect x=\"7.2\" y=\"180.374283\" width=\"130.447059\" height=\"130.447059\"/>\n",
       "  </clipPath>\n",
       "  <clipPath id=\"pae0c550305\">\n",
       "   <rect x=\"164.752941\" y=\"180.374283\" width=\"130.447059\" height=\"130.447059\"/>\n",
       "  </clipPath>\n",
       "  <clipPath id=\"pf3547550c1\">\n",
       "   <rect x=\"322.305882\" y=\"180.374283\" width=\"130.447059\" height=\"130.447059\"/>\n",
       "  </clipPath>\n",
       "  <clipPath id=\"pa9028e4a4e\">\n",
       "   <rect x=\"7.2\" y=\"336.910754\" width=\"130.447059\" height=\"130.447059\"/>\n",
       "  </clipPath>\n",
       "  <clipPath id=\"pa410c1550b\">\n",
       "   <rect x=\"164.752941\" y=\"336.910754\" width=\"130.447059\" height=\"130.447059\"/>\n",
       "  </clipPath>\n",
       "  <clipPath id=\"p238259b103\">\n",
       "   <rect x=\"322.305882\" y=\"336.910754\" width=\"130.447059\" height=\"130.447059\"/>\n",
       "  </clipPath>\n",
       " </defs>\n",
       "</svg>\n"
      ],
      "text/plain": [
       "<Figure size 800x800 with 9 Axes>"
      ]
     },
     "metadata": {},
     "output_type": "display_data"
    }
   ],
   "source": [
    "# Q: How do we know this is the correct map?\n",
    "labels_map = {\n",
    "    0: \"T-Shirt\",\n",
    "    1: \"Trouser\",\n",
    "    2: \"Pullover\",\n",
    "    3: \"Dress\",\n",
    "    4: \"Coat\",\n",
    "    5: \"Sandal\",\n",
    "    6: \"Shirt\",\n",
    "    7: \"Sneaker\",\n",
    "    8: \"Bag\",\n",
    "    9: \"Ankle Boot\",\n",
    "}\n",
    "\n",
    "fig = plt.figure(figsize=(8, 8))\n",
    "\n",
    "cols, rows = 3, 3\n",
    "for i in tqdm(range(1, cols * rows + 1)):\n",
    "    sample_idx = torch.randint(len(train_dataset), size=(1,)).item()\n",
    "    img, label = train_dataset[sample_idx]  # img is our data\n",
    "    fig.add_subplot(rows, cols, i)\n",
    "    plt.title(labels_map[label])\n",
    "    plt.axis(\"off\")\n",
    "    plt.imshow(img.squeeze(), cmap=\"gray\")  # Q: What does squeeze do?\n",
    "plt.show()"
   ]
  },
  {
   "cell_type": "code",
   "execution_count": 80,
   "metadata": {},
   "outputs": [
    {
     "data": {
      "text/plain": [
       "MLP(\n",
       "  (flatten): Flatten(start_dim=1, end_dim=-1)\n",
       "  (fc1): Linear(in_features=784, out_features=300, bias=True)\n",
       "  (fc2): Linear(in_features=300, out_features=100, bias=True)\n",
       "  (fc3): Linear(in_features=100, out_features=10, bias=True)\n",
       ")"
      ]
     },
     "execution_count": 80,
     "metadata": {},
     "output_type": "execute_result"
    }
   ],
   "source": [
    "# Activation function of ReLU can be called in various ways:\n",
    "\n",
    "# import torch.nn.functional as F\n",
    "# F.relu(output)\n",
    "\n",
    "# nn.ReLU()(output)\n",
    "\n",
    "# relu = nn.ReLU(output)\n",
    "\n",
    "\n",
    "class MLP(nn.Module):\n",
    "    def __init__(self, in_feature: int, output_feature: int, *args, **kwargs) -> None:\n",
    "        super().__init__(*args, **kwargs)\n",
    "        self.flatten = nn.Flatten()\n",
    "        self.fc1 = nn.Linear(in_feature, 300)  # fc: fully connected\n",
    "        # self.bn1 = nn.BatchNorm1d(300)\n",
    "        self.fc2 = nn.Linear(300, 100)\n",
    "        # self.bn2 = nn.BatchNorm1d(100)\n",
    "        self.fc3 = nn.Linear(100, output_feature)\n",
    "\n",
    "    def forward(self, x: torch.Tensor) -> torch.Tensor:\n",
    "        x = self.flatten(x)  # (28,28) tensor -> (784,) tensor\n",
    "        output = self.fc1(x)\n",
    "        output = nn.ReLU()(output)\n",
    "        output = self.fc2(output)\n",
    "        output = nn.ReLU()(output)\n",
    "        return self.fc3(output)\n",
    "\n",
    "\n",
    "# # Another way to define the model\n",
    "# model = nn.Sequential(\n",
    "#     nn.Flatten(),\n",
    "#     nn.Linear(784, 300),\n",
    "#     nn.ReLU(),\n",
    "#     nn.Dropout(0.2),\n",
    "#     nn.Linear(300, 100),\n",
    "#     nn.ReLU(),\n",
    "#     nn.Dropout(0.2),\n",
    "#     nn.Linear(100, 10),\n",
    "# )\n",
    "\n",
    "# 784 = 28 * 28: number of pixels, 10: number of labels\n",
    "model = MLP(784, 10)\n",
    "model = model.to(device)\n",
    "model"
   ]
  },
  {
   "cell_type": "code",
   "execution_count": 81,
   "metadata": {},
   "outputs": [
    {
     "data": {
      "text/plain": [
       "<generator object Module.parameters at 0x300813bc0>"
      ]
     },
     "execution_count": 81,
     "metadata": {},
     "output_type": "execute_result"
    }
   ],
   "source": [
    "# Returns a generator\n",
    "model.parameters()"
   ]
  },
  {
   "cell_type": "code",
   "execution_count": 82,
   "metadata": {},
   "outputs": [
    {
     "data": {
      "text/plain": [
       "Parameter containing:\n",
       "tensor([[-0.0218, -0.0040, -0.0355,  ..., -0.0139, -0.0056,  0.0299],\n",
       "        [ 0.0151, -0.0150, -0.0303,  ...,  0.0012,  0.0307,  0.0104],\n",
       "        [-0.0022, -0.0038,  0.0257,  ..., -0.0056, -0.0257, -0.0224],\n",
       "        ...,\n",
       "        [ 0.0311,  0.0346, -0.0209,  ...,  0.0245,  0.0158, -0.0292],\n",
       "        [ 0.0339,  0.0251,  0.0005,  ..., -0.0243,  0.0032,  0.0285],\n",
       "        [ 0.0262,  0.0206, -0.0312,  ..., -0.0055, -0.0249, -0.0028]],\n",
       "       device='mps:0', requires_grad=True)"
      ]
     },
     "execution_count": 82,
     "metadata": {},
     "output_type": "execute_result"
    }
   ],
   "source": [
    "first_param = next(iter(model.parameters()))\n",
    "first_param"
   ]
  },
  {
   "cell_type": "code",
   "execution_count": 83,
   "metadata": {},
   "outputs": [
    {
     "data": {
      "text/plain": [
       "6"
      ]
     },
     "execution_count": 83,
     "metadata": {},
     "output_type": "execute_result"
    }
   ],
   "source": [
    "num_params = len(list(model.parameters()))\n",
    "num_params"
   ]
  },
  {
   "cell_type": "code",
   "execution_count": 84,
   "metadata": {},
   "outputs": [
    {
     "name": "stdout",
     "output_type": "stream",
     "text": [
      "Layer 1. w (transpose): torch.Size([300, 784]) \tnum elems:  235200\n",
      "Layer 1. b: torch.Size([300]) \tnum elems:  300\n",
      "Layer 2. w (transpose): torch.Size([100, 300]) \tnum elems:  30000\n",
      "Layer 2. b: torch.Size([100]) \tnum elems:  100\n",
      "Layer 3. w (transpose): torch.Size([10, 100]) \tnum elems:  1000\n",
      "Layer 3. b: torch.Size([10]) \tnum elems:  10\n"
     ]
    }
   ],
   "source": [
    "i = 0\n",
    "for param in model.parameters():\n",
    "    print(f\"Layer {(i)//2 + 1}. \", end=\"\")\n",
    "    if i % 2 == 0:\n",
    "        print(\"w (transpose): \", end=\"\")\n",
    "    else:\n",
    "        print(\"b: \", end=\"\")\n",
    "    print(param.shape, \"\\tnum elems: \", param.numel())\n",
    "    i += 1"
   ]
  },
  {
   "cell_type": "code",
   "execution_count": 85,
   "metadata": {},
   "outputs": [],
   "source": [
    "x = torch.randn(10, 3, requires_grad=True)\n",
    "x.requires_grad = False  # require_grad: property\n",
    "# If set to True, autograd will compute the gradient during backpropagation\n",
    "# and updates that tensor, otherwise doesn't"
   ]
  },
  {
   "cell_type": "code",
   "execution_count": 86,
   "metadata": {},
   "outputs": [],
   "source": [
    "from datetime import datetime\n",
    "\n",
    "# For checkpoint\n",
    "# During training parameters are saved to file so that\n",
    "# we can refer back to the best parameters when needed\n",
    "timestamp = datetime.now().strftime(\"%Y%m%d_%H%M%S\")\n",
    "\n",
    "saving_path = \"saved_models/fashion_mnist\""
   ]
  },
  {
   "cell_type": "code",
   "execution_count": 87,
   "metadata": {},
   "outputs": [
    {
     "name": "stdout",
     "output_type": "stream",
     "text": [
      "--------------------\n",
      "model:  MLP(\n",
      "  (flatten): Flatten(start_dim=1, end_dim=-1)\n",
      "  (fc1): Linear(in_features=784, out_features=300, bias=True)\n",
      "  (fc2): Linear(in_features=300, out_features=100, bias=True)\n",
      "  (fc3): Linear(in_features=100, out_features=10, bias=True)\n",
      ")\n",
      "model total parameters:  266610\n",
      "model total trainable parameters:  266610\n"
     ]
    }
   ],
   "source": [
    "# Model description\n",
    "print(\"-\" * 20)\n",
    "print(\"model: \", model)\n",
    "model_total_params = sum(p.numel() for p in model.parameters())\n",
    "model_total_trainable_params = sum(p.numel() for p in model.parameters() if p.requires_grad)\n",
    "print(\"model total parameters: \", model_total_params)\n",
    "print(\"model total trainable parameters: \", model_total_trainable_params)"
   ]
  },
  {
   "cell_type": "code",
   "execution_count": 88,
   "metadata": {},
   "outputs": [],
   "source": [
    "# Loss and optimizer\n",
    "criterion = nn.CrossEntropyLoss()  # Compute of loss\n",
    "optimizer = optim.Adam(model.parameters(), lr=learning_rate)  # Optimization"
   ]
  },
  {
   "cell_type": "code",
   "execution_count": 89,
   "metadata": {},
   "outputs": [],
   "source": [
    "epoch_number = 10\n",
    "best_vloss = 1_000_000.0\n",
    "train_losses, val_losses = [], []"
   ]
  },
  {
   "cell_type": "code",
   "execution_count": 92,
   "metadata": {},
   "outputs": [
    {
     "name": "stdout",
     "output_type": "stream",
     "text": [
      "EPOCH 1:\n"
     ]
    },
    {
     "name": "stderr",
     "output_type": "stream",
     "text": [
      " 34%|███▎      | 526/1563 [00:02<00:04, 235.90it/s]"
     ]
    },
    {
     "name": "stdout",
     "output_type": "stream",
     "text": [
      "batch 500 loss: 0.41824271507561206\n"
     ]
    },
    {
     "name": "stderr",
     "output_type": "stream",
     "text": [
      " 67%|██████▋   | 1048/1563 [00:04<00:02, 240.67it/s]"
     ]
    },
    {
     "name": "stdout",
     "output_type": "stream",
     "text": [
      "batch 1000 loss: 0.42305370591580865\n"
     ]
    },
    {
     "name": "stderr",
     "output_type": "stream",
     "text": [
      " 99%|█████████▉| 1546/1563 [00:06<00:00, 231.55it/s]"
     ]
    },
    {
     "name": "stdout",
     "output_type": "stream",
     "text": [
      "batch 1500 loss: 0.4115681595951319\n"
     ]
    },
    {
     "name": "stderr",
     "output_type": "stream",
     "text": [
      "100%|██████████| 1563/1563 [00:06<00:00, 228.37it/s]\n"
     ]
    },
    {
     "name": "stdout",
     "output_type": "stream",
     "text": [
      "LOSS train 0.4115681595951319 valid 0.4409959614276886\n",
      "EPOCH 2:\n"
     ]
    },
    {
     "name": "stderr",
     "output_type": "stream",
     "text": [
      " 35%|███▍      | 543/1563 [00:02<00:04, 238.46it/s]"
     ]
    },
    {
     "name": "stdout",
     "output_type": "stream",
     "text": [
      "batch 500 loss: 0.4038749319165945\n"
     ]
    },
    {
     "name": "stderr",
     "output_type": "stream",
     "text": [
      " 67%|██████▋   | 1040/1563 [00:04<00:02, 237.07it/s]"
     ]
    },
    {
     "name": "stdout",
     "output_type": "stream",
     "text": [
      "batch 1000 loss: 0.4035190764814615\n"
     ]
    },
    {
     "name": "stderr",
     "output_type": "stream",
     "text": [
      " 98%|█████████▊| 1532/1563 [00:06<00:00, 235.51it/s]"
     ]
    },
    {
     "name": "stdout",
     "output_type": "stream",
     "text": [
      "batch 1500 loss: 0.4049707351475954\n"
     ]
    },
    {
     "name": "stderr",
     "output_type": "stream",
     "text": [
      "100%|██████████| 1563/1563 [00:06<00:00, 235.92it/s]\n"
     ]
    },
    {
     "name": "stdout",
     "output_type": "stream",
     "text": [
      "LOSS train 0.4049707351475954 valid 0.40454989671707153\n",
      "EPOCH 3:\n"
     ]
    },
    {
     "name": "stderr",
     "output_type": "stream",
     "text": [
      " 35%|███▌      | 548/1563 [00:02<00:04, 246.04it/s]"
     ]
    },
    {
     "name": "stdout",
     "output_type": "stream",
     "text": [
      "batch 500 loss: 0.40822612354159354\n"
     ]
    },
    {
     "name": "stderr",
     "output_type": "stream",
     "text": [
      " 66%|██████▌   | 1027/1563 [00:04<00:02, 248.47it/s]"
     ]
    },
    {
     "name": "stdout",
     "output_type": "stream",
     "text": [
      "batch 1000 loss: 0.3972820332571864\n"
     ]
    },
    {
     "name": "stderr",
     "output_type": "stream",
     "text": [
      " 98%|█████████▊| 1533/1563 [00:06<00:00, 249.23it/s]"
     ]
    },
    {
     "name": "stdout",
     "output_type": "stream",
     "text": [
      "batch 1500 loss: 0.38229075333476065\n"
     ]
    },
    {
     "name": "stderr",
     "output_type": "stream",
     "text": [
      "100%|██████████| 1563/1563 [00:06<00:00, 242.75it/s]\n"
     ]
    },
    {
     "name": "stdout",
     "output_type": "stream",
     "text": [
      "LOSS train 0.38229075333476065 valid 0.392993688583374\n",
      "EPOCH 4:\n"
     ]
    },
    {
     "name": "stderr",
     "output_type": "stream",
     "text": [
      " 35%|███▍      | 544/1563 [00:02<00:04, 236.75it/s]"
     ]
    },
    {
     "name": "stdout",
     "output_type": "stream",
     "text": [
      "batch 500 loss: 0.3634251366108656\n"
     ]
    },
    {
     "name": "stderr",
     "output_type": "stream",
     "text": [
      " 66%|██████▋   | 1038/1563 [00:04<00:02, 245.75it/s]"
     ]
    },
    {
     "name": "stdout",
     "output_type": "stream",
     "text": [
      "batch 1000 loss: 0.39639111670851707\n"
     ]
    },
    {
     "name": "stderr",
     "output_type": "stream",
     "text": [
      " 99%|█████████▉| 1548/1563 [00:06<00:00, 240.42it/s]"
     ]
    },
    {
     "name": "stdout",
     "output_type": "stream",
     "text": [
      "batch 1500 loss: 0.3756600000411272\n"
     ]
    },
    {
     "name": "stderr",
     "output_type": "stream",
     "text": [
      "100%|██████████| 1563/1563 [00:06<00:00, 227.72it/s]\n"
     ]
    },
    {
     "name": "stdout",
     "output_type": "stream",
     "text": [
      "LOSS train 0.3756600000411272 valid 0.4126792550086975\n",
      "EPOCH 5:\n"
     ]
    },
    {
     "name": "stderr",
     "output_type": "stream",
     "text": [
      " 34%|███▍      | 529/1563 [00:02<00:04, 248.90it/s]"
     ]
    },
    {
     "name": "stdout",
     "output_type": "stream",
     "text": [
      "batch 500 loss: 0.379915813036263\n"
     ]
    },
    {
     "name": "stderr",
     "output_type": "stream",
     "text": [
      " 67%|██████▋   | 1047/1563 [00:04<00:02, 256.77it/s]"
     ]
    },
    {
     "name": "stdout",
     "output_type": "stream",
     "text": [
      "batch 1000 loss: 0.3645036218315363\n"
     ]
    },
    {
     "name": "stderr",
     "output_type": "stream",
     "text": [
      " 99%|█████████▊| 1541/1563 [00:06<00:00, 255.60it/s]"
     ]
    },
    {
     "name": "stdout",
     "output_type": "stream",
     "text": [
      "batch 1500 loss: 0.3709263065755367\n"
     ]
    },
    {
     "name": "stderr",
     "output_type": "stream",
     "text": [
      "100%|██████████| 1563/1563 [00:06<00:00, 245.84it/s]\n"
     ]
    },
    {
     "name": "stdout",
     "output_type": "stream",
     "text": [
      "LOSS train 0.3709263065755367 valid 0.4656219482421875\n",
      "EPOCH 6:\n"
     ]
    },
    {
     "name": "stderr",
     "output_type": "stream",
     "text": [
      " 34%|███▍      | 528/1563 [00:02<00:04, 241.75it/s]"
     ]
    },
    {
     "name": "stdout",
     "output_type": "stream",
     "text": [
      "batch 500 loss: 0.38160655949264766\n"
     ]
    },
    {
     "name": "stderr",
     "output_type": "stream",
     "text": [
      " 66%|██████▌   | 1029/1563 [00:04<00:02, 244.77it/s]"
     ]
    },
    {
     "name": "stdout",
     "output_type": "stream",
     "text": [
      "batch 1000 loss: 0.3739663072377443\n"
     ]
    },
    {
     "name": "stderr",
     "output_type": "stream",
     "text": [
      " 98%|█████████▊| 1532/1563 [00:06<00:00, 244.03it/s]"
     ]
    },
    {
     "name": "stdout",
     "output_type": "stream",
     "text": [
      "batch 1500 loss: 0.3617221909612417\n"
     ]
    },
    {
     "name": "stderr",
     "output_type": "stream",
     "text": [
      "100%|██████████| 1563/1563 [00:06<00:00, 242.88it/s]\n"
     ]
    },
    {
     "name": "stdout",
     "output_type": "stream",
     "text": [
      "LOSS train 0.3617221909612417 valid 0.39987829327583313\n",
      "EPOCH 7:\n"
     ]
    },
    {
     "name": "stderr",
     "output_type": "stream",
     "text": [
      " 34%|███▎      | 526/1563 [00:02<00:04, 246.23it/s]"
     ]
    },
    {
     "name": "stdout",
     "output_type": "stream",
     "text": [
      "batch 500 loss: 0.3663966736868024\n"
     ]
    },
    {
     "name": "stderr",
     "output_type": "stream",
     "text": [
      " 66%|██████▌   | 1026/1563 [00:04<00:02, 246.14it/s]"
     ]
    },
    {
     "name": "stdout",
     "output_type": "stream",
     "text": [
      "batch 1000 loss: 0.3674643064439297\n"
     ]
    },
    {
     "name": "stderr",
     "output_type": "stream",
     "text": [
      " 98%|█████████▊| 1525/1563 [00:06<00:00, 245.50it/s]"
     ]
    },
    {
     "name": "stdout",
     "output_type": "stream",
     "text": [
      "batch 1500 loss: 0.38341572031378746\n"
     ]
    },
    {
     "name": "stderr",
     "output_type": "stream",
     "text": [
      "100%|██████████| 1563/1563 [00:06<00:00, 243.22it/s]\n"
     ]
    },
    {
     "name": "stdout",
     "output_type": "stream",
     "text": [
      "LOSS train 0.38341572031378746 valid 0.41312381625175476\n",
      "EPOCH 8:\n"
     ]
    },
    {
     "name": "stderr",
     "output_type": "stream",
     "text": [
      " 34%|███▎      | 526/1563 [00:02<00:04, 245.48it/s]"
     ]
    },
    {
     "name": "stdout",
     "output_type": "stream",
     "text": [
      "batch 500 loss: 0.3589688964784145\n"
     ]
    },
    {
     "name": "stderr",
     "output_type": "stream",
     "text": [
      " 66%|██████▌   | 1027/1563 [00:04<00:02, 235.59it/s]"
     ]
    },
    {
     "name": "stdout",
     "output_type": "stream",
     "text": [
      "batch 1000 loss: 0.35886006143689153\n"
     ]
    },
    {
     "name": "stderr",
     "output_type": "stream",
     "text": [
      " 98%|█████████▊| 1525/1563 [00:06<00:00, 235.05it/s]"
     ]
    },
    {
     "name": "stdout",
     "output_type": "stream",
     "text": [
      "batch 1500 loss: 0.35841057124733927\n"
     ]
    },
    {
     "name": "stderr",
     "output_type": "stream",
     "text": [
      "100%|██████████| 1563/1563 [00:06<00:00, 242.60it/s]\n"
     ]
    },
    {
     "name": "stdout",
     "output_type": "stream",
     "text": [
      "LOSS train 0.35841057124733927 valid 0.4064582288265228\n",
      "EPOCH 9:\n"
     ]
    },
    {
     "name": "stderr",
     "output_type": "stream",
     "text": [
      " 34%|███▎      | 524/1563 [00:02<00:04, 234.00it/s]"
     ]
    },
    {
     "name": "stdout",
     "output_type": "stream",
     "text": [
      "batch 500 loss: 0.36220501209795475\n"
     ]
    },
    {
     "name": "stderr",
     "output_type": "stream",
     "text": [
      " 67%|██████▋   | 1048/1563 [00:04<00:02, 236.85it/s]"
     ]
    },
    {
     "name": "stdout",
     "output_type": "stream",
     "text": [
      "batch 1000 loss: 0.3583596431016922\n"
     ]
    },
    {
     "name": "stderr",
     "output_type": "stream",
     "text": [
      " 98%|█████████▊| 1532/1563 [00:06<00:00, 227.23it/s]"
     ]
    },
    {
     "name": "stdout",
     "output_type": "stream",
     "text": [
      "batch 1500 loss: 0.36669120559096335\n"
     ]
    },
    {
     "name": "stderr",
     "output_type": "stream",
     "text": [
      "100%|██████████| 1563/1563 [00:06<00:00, 229.17it/s]\n"
     ]
    },
    {
     "name": "stdout",
     "output_type": "stream",
     "text": [
      "LOSS train 0.36669120559096335 valid 0.39971113204956055\n",
      "EPOCH 10:\n"
     ]
    },
    {
     "name": "stderr",
     "output_type": "stream",
     "text": [
      " 34%|███▍      | 534/1563 [00:02<00:04, 217.06it/s]"
     ]
    },
    {
     "name": "stdout",
     "output_type": "stream",
     "text": [
      "batch 500 loss: 0.35101861296594145\n"
     ]
    },
    {
     "name": "stderr",
     "output_type": "stream",
     "text": [
      " 66%|██████▋   | 1039/1563 [00:04<00:02, 231.41it/s]"
     ]
    },
    {
     "name": "stdout",
     "output_type": "stream",
     "text": [
      "batch 1000 loss: 0.3481689041629434\n"
     ]
    },
    {
     "name": "stderr",
     "output_type": "stream",
     "text": [
      " 98%|█████████▊| 1537/1563 [00:06<00:00, 229.06it/s]"
     ]
    },
    {
     "name": "stdout",
     "output_type": "stream",
     "text": [
      "batch 1500 loss: 0.36037182816118\n"
     ]
    },
    {
     "name": "stderr",
     "output_type": "stream",
     "text": [
      "100%|██████████| 1563/1563 [00:06<00:00, 230.12it/s]\n"
     ]
    },
    {
     "name": "stdout",
     "output_type": "stream",
     "text": [
      "LOSS train 0.36037182816118 valid 0.41591155529022217\n"
     ]
    }
   ],
   "source": [
    "for epoch in range(number_epochs):\n",
    "    print(f\"EPOCH {epoch + 1}:\")\n",
    "\n",
    "    running_loss = 0.0\n",
    "    last_loss = 0.0\n",
    "\n",
    "    model.train(True)\n",
    "    for batch_idx, (data, targets) in enumerate(tqdm(train_dloader)):\n",
    "        data = data.to(device=device)\n",
    "        targets = targets.to(device=device)\n",
    "\n",
    "        # Make predictions for this batch (feed forward)\n",
    "        outputs = model(data)\n",
    "\n",
    "        # Compute the loss and its gradients\n",
    "        loss = criterion(outputs, targets)\n",
    "        optimizer.zero_grad()  # torch's autograd by default adds/accumulates gradient to previous values\n",
    "        loss.backward()  # Compute gradients using backward propagation automatic differentiation\n",
    "\n",
    "        # Adjust learning weights\n",
    "        optimizer.step()  # Update the parameters using the derivative computed by `loss.backward()`\n",
    "\n",
    "        running_loss += loss.item()  # Reutrns the numerical value of the loss\n",
    "\n",
    "        if batch_idx % 500 == 499:\n",
    "            last_loss = running_loss / 500  # Loss per batch\n",
    "            print(f\"batch {batch_idx + 1} loss: {last_loss}\")\n",
    "            running_loss = 0.0\n",
    "\n",
    "    running_vloss = 0.0\n",
    "    model.eval()\n",
    "\n",
    "    # Disable gradient computation and reduce memory consumption\n",
    "    with torch.no_grad():\n",
    "        for i, (vinputs, vlabels) in enumerate(val_dloader):\n",
    "            vinputs = vinputs.to(device)\n",
    "            vlabels = vlabels.to(device)\n",
    "            voutputs = model(vinputs)\n",
    "            vloss = criterion(voutputs, vlabels)\n",
    "            running_vloss += vloss\n",
    "    avg_vloss = running_vloss / (i + 1)\n",
    "    print(f\"LOSS train {last_loss} valid {avg_vloss}\")\n",
    "\n",
    "    train_losses.append(last_loss)\n",
    "    val_losses.append(avg_vloss)\n",
    "\n",
    "    # Track best performance, and save the model's state\n",
    "    if avg_vloss < best_vloss:\n",
    "        best_vloss = avg_vloss\n",
    "        if os.path.exists(saving_path):\n",
    "            shutil.rmtree(saving_path)\n",
    "        os.makedirs(saving_path)\n",
    "        model_path = f\"{saving_path}/model_{timestamp}_{epoch_number}.pth\"\n",
    "        torch.save(model.state_dict(), model_path)\n",
    "\n",
    "    epoch_number += 1"
   ]
  },
  {
   "cell_type": "code",
   "execution_count": null,
   "metadata": {},
   "outputs": [
    {
     "data": {
      "image/svg+xml": [
       "<?xml version=\"1.0\" encoding=\"utf-8\" standalone=\"no\"?>\n",
       "<!DOCTYPE svg PUBLIC \"-//W3C//DTD SVG 1.1//EN\"\n",
       "  \"http://www.w3.org/Graphics/SVG/1.1/DTD/svg11.dtd\">\n",
       "<svg xmlns:xlink=\"http://www.w3.org/1999/xlink\" width=\"400.785625pt\" height=\"299.061357pt\" viewBox=\"0 0 400.785625 299.061357\" xmlns=\"http://www.w3.org/2000/svg\" version=\"1.1\">\n",
       " <metadata>\n",
       "  <rdf:RDF xmlns:dc=\"http://purl.org/dc/elements/1.1/\" xmlns:cc=\"http://creativecommons.org/ns#\" xmlns:rdf=\"http://www.w3.org/1999/02/22-rdf-syntax-ns#\">\n",
       "   <cc:Work>\n",
       "    <dc:type rdf:resource=\"http://purl.org/dc/dcmitype/StillImage\"/>\n",
       "    <dc:date>2024-08-24T23:55:11.104805</dc:date>\n",
       "    <dc:format>image/svg+xml</dc:format>\n",
       "    <dc:creator>\n",
       "     <cc:Agent>\n",
       "      <dc:title>Matplotlib v3.8.3, https://matplotlib.org/</dc:title>\n",
       "     </cc:Agent>\n",
       "    </dc:creator>\n",
       "   </cc:Work>\n",
       "  </rdf:RDF>\n",
       " </metadata>\n",
       " <defs>\n",
       "  <style type=\"text/css\">*{stroke-linejoin: round; stroke-linecap: butt}</style>\n",
       " </defs>\n",
       " <g id=\"figure_1\">\n",
       "  <g id=\"patch_1\">\n",
       "   <path d=\"M 0 299.061357 \n",
       "L 400.785625 299.061357 \n",
       "L 400.785625 0 \n",
       "L 0 0 \n",
       "z\n",
       "\" style=\"fill: #ffffff\"/>\n",
       "  </g>\n",
       "  <g id=\"axes_1\">\n",
       "   <g id=\"patch_2\">\n",
       "    <path d=\"M 36.465625 275.183232 \n",
       "L 393.585625 275.183232 \n",
       "L 393.585625 9.071232 \n",
       "L 36.465625 9.071232 \n",
       "z\n",
       "\" style=\"fill: #ffffff\"/>\n",
       "   </g>\n",
       "   <g id=\"matplotlib.axis_1\">\n",
       "    <g id=\"xtick_1\">\n",
       "     <g id=\"line2d_1\">\n",
       "      <defs>\n",
       "       <path id=\"m39d4983561\" d=\"M 0 0 \n",
       "L 0 3.5 \n",
       "\" style=\"stroke: #000000; stroke-width: 0.8\"/>\n",
       "      </defs>\n",
       "      <g>\n",
       "       <use xlink:href=\"#m39d4983561\" x=\"52.698352\" y=\"275.183232\" style=\"stroke: #000000; stroke-width: 0.8\"/>\n",
       "      </g>\n",
       "     </g>\n",
       "     <g id=\"text_1\">\n",
       "      <!-- 0 -->\n",
       "      <g transform=\"translate(49.517102 289.781669) scale(0.1 -0.1)\">\n",
       "       <defs>\n",
       "        <path id=\"DejaVuSans-30\" d=\"M 2034 4250 \n",
       "Q 1547 4250 1301 3770 \n",
       "Q 1056 3291 1056 2328 \n",
       "Q 1056 1369 1301 889 \n",
       "Q 1547 409 2034 409 \n",
       "Q 2525 409 2770 889 \n",
       "Q 3016 1369 3016 2328 \n",
       "Q 3016 3291 2770 3770 \n",
       "Q 2525 4250 2034 4250 \n",
       "z\n",
       "M 2034 4750 \n",
       "Q 2819 4750 3233 4129 \n",
       "Q 3647 3509 3647 2328 \n",
       "Q 3647 1150 3233 529 \n",
       "Q 2819 -91 2034 -91 \n",
       "Q 1250 -91 836 529 \n",
       "Q 422 1150 422 2328 \n",
       "Q 422 3509 836 4129 \n",
       "Q 1250 4750 2034 4750 \n",
       "z\n",
       "\" transform=\"scale(0.015625)\"/>\n",
       "       </defs>\n",
       "       <use xlink:href=\"#DejaVuSans-30\"/>\n",
       "      </g>\n",
       "     </g>\n",
       "    </g>\n",
       "    <g id=\"xtick_2\">\n",
       "     <g id=\"line2d_2\">\n",
       "      <g>\n",
       "       <use xlink:href=\"#m39d4983561\" x=\"124.843807\" y=\"275.183232\" style=\"stroke: #000000; stroke-width: 0.8\"/>\n",
       "      </g>\n",
       "     </g>\n",
       "     <g id=\"text_2\">\n",
       "      <!-- 2 -->\n",
       "      <g transform=\"translate(121.662557 289.781669) scale(0.1 -0.1)\">\n",
       "       <defs>\n",
       "        <path id=\"DejaVuSans-32\" d=\"M 1228 531 \n",
       "L 3431 531 \n",
       "L 3431 0 \n",
       "L 469 0 \n",
       "L 469 531 \n",
       "Q 828 903 1448 1529 \n",
       "Q 2069 2156 2228 2338 \n",
       "Q 2531 2678 2651 2914 \n",
       "Q 2772 3150 2772 3378 \n",
       "Q 2772 3750 2511 3984 \n",
       "Q 2250 4219 1831 4219 \n",
       "Q 1534 4219 1204 4116 \n",
       "Q 875 4013 500 3803 \n",
       "L 500 4441 \n",
       "Q 881 4594 1212 4672 \n",
       "Q 1544 4750 1819 4750 \n",
       "Q 2544 4750 2975 4387 \n",
       "Q 3406 4025 3406 3419 \n",
       "Q 3406 3131 3298 2873 \n",
       "Q 3191 2616 2906 2266 \n",
       "Q 2828 2175 2409 1742 \n",
       "Q 1991 1309 1228 531 \n",
       "z\n",
       "\" transform=\"scale(0.015625)\"/>\n",
       "       </defs>\n",
       "       <use xlink:href=\"#DejaVuSans-32\"/>\n",
       "      </g>\n",
       "     </g>\n",
       "    </g>\n",
       "    <g id=\"xtick_3\">\n",
       "     <g id=\"line2d_3\">\n",
       "      <g>\n",
       "       <use xlink:href=\"#m39d4983561\" x=\"196.989261\" y=\"275.183232\" style=\"stroke: #000000; stroke-width: 0.8\"/>\n",
       "      </g>\n",
       "     </g>\n",
       "     <g id=\"text_3\">\n",
       "      <!-- 4 -->\n",
       "      <g transform=\"translate(193.808011 289.781669) scale(0.1 -0.1)\">\n",
       "       <defs>\n",
       "        <path id=\"DejaVuSans-34\" d=\"M 2419 4116 \n",
       "L 825 1625 \n",
       "L 2419 1625 \n",
       "L 2419 4116 \n",
       "z\n",
       "M 2253 4666 \n",
       "L 3047 4666 \n",
       "L 3047 1625 \n",
       "L 3713 1625 \n",
       "L 3713 1100 \n",
       "L 3047 1100 \n",
       "L 3047 0 \n",
       "L 2419 0 \n",
       "L 2419 1100 \n",
       "L 313 1100 \n",
       "L 313 1709 \n",
       "L 2253 4666 \n",
       "z\n",
       "\" transform=\"scale(0.015625)\"/>\n",
       "       </defs>\n",
       "       <use xlink:href=\"#DejaVuSans-34\"/>\n",
       "      </g>\n",
       "     </g>\n",
       "    </g>\n",
       "    <g id=\"xtick_4\">\n",
       "     <g id=\"line2d_4\">\n",
       "      <g>\n",
       "       <use xlink:href=\"#m39d4983561\" x=\"269.134716\" y=\"275.183232\" style=\"stroke: #000000; stroke-width: 0.8\"/>\n",
       "      </g>\n",
       "     </g>\n",
       "     <g id=\"text_4\">\n",
       "      <!-- 6 -->\n",
       "      <g transform=\"translate(265.953466 289.781669) scale(0.1 -0.1)\">\n",
       "       <defs>\n",
       "        <path id=\"DejaVuSans-36\" d=\"M 2113 2584 \n",
       "Q 1688 2584 1439 2293 \n",
       "Q 1191 2003 1191 1497 \n",
       "Q 1191 994 1439 701 \n",
       "Q 1688 409 2113 409 \n",
       "Q 2538 409 2786 701 \n",
       "Q 3034 994 3034 1497 \n",
       "Q 3034 2003 2786 2293 \n",
       "Q 2538 2584 2113 2584 \n",
       "z\n",
       "M 3366 4563 \n",
       "L 3366 3988 \n",
       "Q 3128 4100 2886 4159 \n",
       "Q 2644 4219 2406 4219 \n",
       "Q 1781 4219 1451 3797 \n",
       "Q 1122 3375 1075 2522 \n",
       "Q 1259 2794 1537 2939 \n",
       "Q 1816 3084 2150 3084 \n",
       "Q 2853 3084 3261 2657 \n",
       "Q 3669 2231 3669 1497 \n",
       "Q 3669 778 3244 343 \n",
       "Q 2819 -91 2113 -91 \n",
       "Q 1303 -91 875 529 \n",
       "Q 447 1150 447 2328 \n",
       "Q 447 3434 972 4092 \n",
       "Q 1497 4750 2381 4750 \n",
       "Q 2619 4750 2861 4703 \n",
       "Q 3103 4656 3366 4563 \n",
       "z\n",
       "\" transform=\"scale(0.015625)\"/>\n",
       "       </defs>\n",
       "       <use xlink:href=\"#DejaVuSans-36\"/>\n",
       "      </g>\n",
       "     </g>\n",
       "    </g>\n",
       "    <g id=\"xtick_5\">\n",
       "     <g id=\"line2d_5\">\n",
       "      <g>\n",
       "       <use xlink:href=\"#m39d4983561\" x=\"341.28017\" y=\"275.183232\" style=\"stroke: #000000; stroke-width: 0.8\"/>\n",
       "      </g>\n",
       "     </g>\n",
       "     <g id=\"text_5\">\n",
       "      <!-- 8 -->\n",
       "      <g transform=\"translate(338.09892 289.781669) scale(0.1 -0.1)\">\n",
       "       <defs>\n",
       "        <path id=\"DejaVuSans-38\" d=\"M 2034 2216 \n",
       "Q 1584 2216 1326 1975 \n",
       "Q 1069 1734 1069 1313 \n",
       "Q 1069 891 1326 650 \n",
       "Q 1584 409 2034 409 \n",
       "Q 2484 409 2743 651 \n",
       "Q 3003 894 3003 1313 \n",
       "Q 3003 1734 2745 1975 \n",
       "Q 2488 2216 2034 2216 \n",
       "z\n",
       "M 1403 2484 \n",
       "Q 997 2584 770 2862 \n",
       "Q 544 3141 544 3541 \n",
       "Q 544 4100 942 4425 \n",
       "Q 1341 4750 2034 4750 \n",
       "Q 2731 4750 3128 4425 \n",
       "Q 3525 4100 3525 3541 \n",
       "Q 3525 3141 3298 2862 \n",
       "Q 3072 2584 2669 2484 \n",
       "Q 3125 2378 3379 2068 \n",
       "Q 3634 1759 3634 1313 \n",
       "Q 3634 634 3220 271 \n",
       "Q 2806 -91 2034 -91 \n",
       "Q 1263 -91 848 271 \n",
       "Q 434 634 434 1313 \n",
       "Q 434 1759 690 2068 \n",
       "Q 947 2378 1403 2484 \n",
       "z\n",
       "M 1172 3481 \n",
       "Q 1172 3119 1398 2916 \n",
       "Q 1625 2713 2034 2713 \n",
       "Q 2441 2713 2670 2916 \n",
       "Q 2900 3119 2900 3481 \n",
       "Q 2900 3844 2670 4047 \n",
       "Q 2441 4250 2034 4250 \n",
       "Q 1625 4250 1398 4047 \n",
       "Q 1172 3844 1172 3481 \n",
       "z\n",
       "\" transform=\"scale(0.015625)\"/>\n",
       "       </defs>\n",
       "       <use xlink:href=\"#DejaVuSans-38\"/>\n",
       "      </g>\n",
       "     </g>\n",
       "    </g>\n",
       "   </g>\n",
       "   <g id=\"matplotlib.axis_2\">\n",
       "    <g id=\"ytick_1\">\n",
       "     <g id=\"line2d_6\">\n",
       "      <defs>\n",
       "       <path id=\"mb9ba752e8b\" d=\"M 0 0 \n",
       "L -3.5 0 \n",
       "\" style=\"stroke: #000000; stroke-width: 0.8\"/>\n",
       "      </defs>\n",
       "      <g>\n",
       "       <use xlink:href=\"#mb9ba752e8b\" x=\"36.465625\" y=\"267.288718\" style=\"stroke: #000000; stroke-width: 0.8\"/>\n",
       "      </g>\n",
       "     </g>\n",
       "     <g id=\"text_6\">\n",
       "      <!-- 0.36 -->\n",
       "      <g transform=\"translate(7.2 271.087937) scale(0.1 -0.1)\">\n",
       "       <defs>\n",
       "        <path id=\"DejaVuSans-2e\" d=\"M 684 794 \n",
       "L 1344 794 \n",
       "L 1344 0 \n",
       "L 684 0 \n",
       "L 684 794 \n",
       "z\n",
       "\" transform=\"scale(0.015625)\"/>\n",
       "        <path id=\"DejaVuSans-33\" d=\"M 2597 2516 \n",
       "Q 3050 2419 3304 2112 \n",
       "Q 3559 1806 3559 1356 \n",
       "Q 3559 666 3084 287 \n",
       "Q 2609 -91 1734 -91 \n",
       "Q 1441 -91 1130 -33 \n",
       "Q 819 25 488 141 \n",
       "L 488 750 \n",
       "Q 750 597 1062 519 \n",
       "Q 1375 441 1716 441 \n",
       "Q 2309 441 2620 675 \n",
       "Q 2931 909 2931 1356 \n",
       "Q 2931 1769 2642 2001 \n",
       "Q 2353 2234 1838 2234 \n",
       "L 1294 2234 \n",
       "L 1294 2753 \n",
       "L 1863 2753 \n",
       "Q 2328 2753 2575 2939 \n",
       "Q 2822 3125 2822 3475 \n",
       "Q 2822 3834 2567 4026 \n",
       "Q 2313 4219 1838 4219 \n",
       "Q 1578 4219 1281 4162 \n",
       "Q 984 4106 628 3988 \n",
       "L 628 4550 \n",
       "Q 988 4650 1302 4700 \n",
       "Q 1616 4750 1894 4750 \n",
       "Q 2613 4750 3031 4423 \n",
       "Q 3450 4097 3450 3541 \n",
       "Q 3450 3153 3228 2886 \n",
       "Q 3006 2619 2597 2516 \n",
       "z\n",
       "\" transform=\"scale(0.015625)\"/>\n",
       "       </defs>\n",
       "       <use xlink:href=\"#DejaVuSans-30\"/>\n",
       "       <use xlink:href=\"#DejaVuSans-2e\" x=\"63.623047\"/>\n",
       "       <use xlink:href=\"#DejaVuSans-33\" x=\"95.410156\"/>\n",
       "       <use xlink:href=\"#DejaVuSans-36\" x=\"159.033203\"/>\n",
       "      </g>\n",
       "     </g>\n",
       "    </g>\n",
       "    <g id=\"ytick_2\">\n",
       "     <g id=\"line2d_7\">\n",
       "      <g>\n",
       "       <use xlink:href=\"#mb9ba752e8b\" x=\"36.465625\" y=\"224.573801\" style=\"stroke: #000000; stroke-width: 0.8\"/>\n",
       "      </g>\n",
       "     </g>\n",
       "     <g id=\"text_7\">\n",
       "      <!-- 0.38 -->\n",
       "      <g transform=\"translate(7.2 228.37302) scale(0.1 -0.1)\">\n",
       "       <use xlink:href=\"#DejaVuSans-30\"/>\n",
       "       <use xlink:href=\"#DejaVuSans-2e\" x=\"63.623047\"/>\n",
       "       <use xlink:href=\"#DejaVuSans-33\" x=\"95.410156\"/>\n",
       "       <use xlink:href=\"#DejaVuSans-38\" x=\"159.033203\"/>\n",
       "      </g>\n",
       "     </g>\n",
       "    </g>\n",
       "    <g id=\"ytick_3\">\n",
       "     <g id=\"line2d_8\">\n",
       "      <g>\n",
       "       <use xlink:href=\"#mb9ba752e8b\" x=\"36.465625\" y=\"181.858885\" style=\"stroke: #000000; stroke-width: 0.8\"/>\n",
       "      </g>\n",
       "     </g>\n",
       "     <g id=\"text_8\">\n",
       "      <!-- 0.40 -->\n",
       "      <g transform=\"translate(7.2 185.658104) scale(0.1 -0.1)\">\n",
       "       <use xlink:href=\"#DejaVuSans-30\"/>\n",
       "       <use xlink:href=\"#DejaVuSans-2e\" x=\"63.623047\"/>\n",
       "       <use xlink:href=\"#DejaVuSans-34\" x=\"95.410156\"/>\n",
       "       <use xlink:href=\"#DejaVuSans-30\" x=\"159.033203\"/>\n",
       "      </g>\n",
       "     </g>\n",
       "    </g>\n",
       "    <g id=\"ytick_4\">\n",
       "     <g id=\"line2d_9\">\n",
       "      <g>\n",
       "       <use xlink:href=\"#mb9ba752e8b\" x=\"36.465625\" y=\"139.143968\" style=\"stroke: #000000; stroke-width: 0.8\"/>\n",
       "      </g>\n",
       "     </g>\n",
       "     <g id=\"text_9\">\n",
       "      <!-- 0.42 -->\n",
       "      <g transform=\"translate(7.2 142.943187) scale(0.1 -0.1)\">\n",
       "       <use xlink:href=\"#DejaVuSans-30\"/>\n",
       "       <use xlink:href=\"#DejaVuSans-2e\" x=\"63.623047\"/>\n",
       "       <use xlink:href=\"#DejaVuSans-34\" x=\"95.410156\"/>\n",
       "       <use xlink:href=\"#DejaVuSans-32\" x=\"159.033203\"/>\n",
       "      </g>\n",
       "     </g>\n",
       "    </g>\n",
       "    <g id=\"ytick_5\">\n",
       "     <g id=\"line2d_10\">\n",
       "      <g>\n",
       "       <use xlink:href=\"#mb9ba752e8b\" x=\"36.465625\" y=\"96.429052\" style=\"stroke: #000000; stroke-width: 0.8\"/>\n",
       "      </g>\n",
       "     </g>\n",
       "     <g id=\"text_10\">\n",
       "      <!-- 0.44 -->\n",
       "      <g transform=\"translate(7.2 100.228271) scale(0.1 -0.1)\">\n",
       "       <use xlink:href=\"#DejaVuSans-30\"/>\n",
       "       <use xlink:href=\"#DejaVuSans-2e\" x=\"63.623047\"/>\n",
       "       <use xlink:href=\"#DejaVuSans-34\" x=\"95.410156\"/>\n",
       "       <use xlink:href=\"#DejaVuSans-34\" x=\"159.033203\"/>\n",
       "      </g>\n",
       "     </g>\n",
       "    </g>\n",
       "    <g id=\"ytick_6\">\n",
       "     <g id=\"line2d_11\">\n",
       "      <g>\n",
       "       <use xlink:href=\"#mb9ba752e8b\" x=\"36.465625\" y=\"53.714135\" style=\"stroke: #000000; stroke-width: 0.8\"/>\n",
       "      </g>\n",
       "     </g>\n",
       "     <g id=\"text_11\">\n",
       "      <!-- 0.46 -->\n",
       "      <g transform=\"translate(7.2 57.513354) scale(0.1 -0.1)\">\n",
       "       <use xlink:href=\"#DejaVuSans-30\"/>\n",
       "       <use xlink:href=\"#DejaVuSans-2e\" x=\"63.623047\"/>\n",
       "       <use xlink:href=\"#DejaVuSans-34\" x=\"95.410156\"/>\n",
       "       <use xlink:href=\"#DejaVuSans-36\" x=\"159.033203\"/>\n",
       "      </g>\n",
       "     </g>\n",
       "    </g>\n",
       "    <g id=\"ytick_7\">\n",
       "     <g id=\"line2d_12\">\n",
       "      <g>\n",
       "       <use xlink:href=\"#mb9ba752e8b\" x=\"36.465625\" y=\"10.999219\" style=\"stroke: #000000; stroke-width: 0.8\"/>\n",
       "      </g>\n",
       "     </g>\n",
       "     <g id=\"text_12\">\n",
       "      <!-- 0.48 -->\n",
       "      <g transform=\"translate(7.2 14.798437) scale(0.1 -0.1)\">\n",
       "       <use xlink:href=\"#DejaVuSans-30\"/>\n",
       "       <use xlink:href=\"#DejaVuSans-2e\" x=\"63.623047\"/>\n",
       "       <use xlink:href=\"#DejaVuSans-34\" x=\"95.410156\"/>\n",
       "       <use xlink:href=\"#DejaVuSans-38\" x=\"159.033203\"/>\n",
       "      </g>\n",
       "     </g>\n",
       "    </g>\n",
       "   </g>\n",
       "   <g id=\"line2d_13\">\n",
       "    <path d=\"M 52.698352 113.221414 \n",
       "L 88.77108 178.922193 \n",
       "L 124.843807 194.294172 \n",
       "L 160.916534 192.418544 \n",
       "L 196.989261 218.324282 \n",
       "L 233.061989 188.493619 \n",
       "L 269.134716 263.087232 \n",
       "L 305.207443 249.848556 \n",
       "L 341.28017 258.387899 \n",
       "L 377.352898 241.619039 \n",
       "\" clip-path=\"url(#pdf27471f8c)\" style=\"fill: none; stroke: #1f77b4; stroke-width: 1.5; stroke-linecap: square\"/>\n",
       "   </g>\n",
       "   <g id=\"line2d_14\">\n",
       "    <path d=\"M 52.698352 145.534984 \n",
       "L 88.77108 80.854366 \n",
       "L 124.843807 101.68618 \n",
       "L 160.916534 113.198908 \n",
       "L 196.989261 90.661332 \n",
       "L 233.061989 151.944621 \n",
       "L 269.134716 102.654172 \n",
       "L 305.207443 85.580456 \n",
       "L 341.28017 96.209336 \n",
       "L 377.352898 21.167232 \n",
       "\" clip-path=\"url(#pdf27471f8c)\" style=\"fill: none; stroke: #ff7f0e; stroke-width: 1.5; stroke-linecap: square\"/>\n",
       "   </g>\n",
       "   <g id=\"patch_3\">\n",
       "    <path d=\"M 36.465625 275.183232 \n",
       "L 36.465625 9.071232 \n",
       "\" style=\"fill: none; stroke: #000000; stroke-width: 0.8; stroke-linejoin: miter; stroke-linecap: square\"/>\n",
       "   </g>\n",
       "   <g id=\"patch_4\">\n",
       "    <path d=\"M 393.585625 275.183232 \n",
       "L 393.585625 9.071232 \n",
       "\" style=\"fill: none; stroke: #000000; stroke-width: 0.8; stroke-linejoin: miter; stroke-linecap: square\"/>\n",
       "   </g>\n",
       "   <g id=\"patch_5\">\n",
       "    <path d=\"M 36.465625 275.183232 \n",
       "L 393.585625 275.183232 \n",
       "\" style=\"fill: none; stroke: #000000; stroke-width: 0.8; stroke-linejoin: miter; stroke-linecap: square\"/>\n",
       "   </g>\n",
       "   <g id=\"patch_6\">\n",
       "    <path d=\"M 36.465625 9.071232 \n",
       "L 393.585625 9.071232 \n",
       "\" style=\"fill: none; stroke: #000000; stroke-width: 0.8; stroke-linejoin: miter; stroke-linecap: square\"/>\n",
       "   </g>\n",
       "   <g id=\"legend_1\">\n",
       "    <g id=\"line2d_15\">\n",
       "     <path d=\"M 49.065625 27.409044 \n",
       "L 63.065625 27.409044 \n",
       "L 77.065625 27.409044 \n",
       "\" style=\"fill: none; stroke: #1f77b4; stroke-width: 1.5; stroke-linecap: square\"/>\n",
       "    </g>\n",
       "    <g id=\"text_13\">\n",
       "     <!-- Training loss -->\n",
       "     <g transform=\"translate(88.265625 32.309044) scale(0.14 -0.14)\">\n",
       "      <defs>\n",
       "       <path id=\"DejaVuSans-54\" d=\"M -19 4666 \n",
       "L 3928 4666 \n",
       "L 3928 4134 \n",
       "L 2272 4134 \n",
       "L 2272 0 \n",
       "L 1638 0 \n",
       "L 1638 4134 \n",
       "L -19 4134 \n",
       "L -19 4666 \n",
       "z\n",
       "\" transform=\"scale(0.015625)\"/>\n",
       "       <path id=\"DejaVuSans-72\" d=\"M 2631 2963 \n",
       "Q 2534 3019 2420 3045 \n",
       "Q 2306 3072 2169 3072 \n",
       "Q 1681 3072 1420 2755 \n",
       "Q 1159 2438 1159 1844 \n",
       "L 1159 0 \n",
       "L 581 0 \n",
       "L 581 3500 \n",
       "L 1159 3500 \n",
       "L 1159 2956 \n",
       "Q 1341 3275 1631 3429 \n",
       "Q 1922 3584 2338 3584 \n",
       "Q 2397 3584 2469 3576 \n",
       "Q 2541 3569 2628 3553 \n",
       "L 2631 2963 \n",
       "z\n",
       "\" transform=\"scale(0.015625)\"/>\n",
       "       <path id=\"DejaVuSans-61\" d=\"M 2194 1759 \n",
       "Q 1497 1759 1228 1600 \n",
       "Q 959 1441 959 1056 \n",
       "Q 959 750 1161 570 \n",
       "Q 1363 391 1709 391 \n",
       "Q 2188 391 2477 730 \n",
       "Q 2766 1069 2766 1631 \n",
       "L 2766 1759 \n",
       "L 2194 1759 \n",
       "z\n",
       "M 3341 1997 \n",
       "L 3341 0 \n",
       "L 2766 0 \n",
       "L 2766 531 \n",
       "Q 2569 213 2275 61 \n",
       "Q 1981 -91 1556 -91 \n",
       "Q 1019 -91 701 211 \n",
       "Q 384 513 384 1019 \n",
       "Q 384 1609 779 1909 \n",
       "Q 1175 2209 1959 2209 \n",
       "L 2766 2209 \n",
       "L 2766 2266 \n",
       "Q 2766 2663 2505 2880 \n",
       "Q 2244 3097 1772 3097 \n",
       "Q 1472 3097 1187 3025 \n",
       "Q 903 2953 641 2809 \n",
       "L 641 3341 \n",
       "Q 956 3463 1253 3523 \n",
       "Q 1550 3584 1831 3584 \n",
       "Q 2591 3584 2966 3190 \n",
       "Q 3341 2797 3341 1997 \n",
       "z\n",
       "\" transform=\"scale(0.015625)\"/>\n",
       "       <path id=\"DejaVuSans-69\" d=\"M 603 3500 \n",
       "L 1178 3500 \n",
       "L 1178 0 \n",
       "L 603 0 \n",
       "L 603 3500 \n",
       "z\n",
       "M 603 4863 \n",
       "L 1178 4863 \n",
       "L 1178 4134 \n",
       "L 603 4134 \n",
       "L 603 4863 \n",
       "z\n",
       "\" transform=\"scale(0.015625)\"/>\n",
       "       <path id=\"DejaVuSans-6e\" d=\"M 3513 2113 \n",
       "L 3513 0 \n",
       "L 2938 0 \n",
       "L 2938 2094 \n",
       "Q 2938 2591 2744 2837 \n",
       "Q 2550 3084 2163 3084 \n",
       "Q 1697 3084 1428 2787 \n",
       "Q 1159 2491 1159 1978 \n",
       "L 1159 0 \n",
       "L 581 0 \n",
       "L 581 3500 \n",
       "L 1159 3500 \n",
       "L 1159 2956 \n",
       "Q 1366 3272 1645 3428 \n",
       "Q 1925 3584 2291 3584 \n",
       "Q 2894 3584 3203 3211 \n",
       "Q 3513 2838 3513 2113 \n",
       "z\n",
       "\" transform=\"scale(0.015625)\"/>\n",
       "       <path id=\"DejaVuSans-67\" d=\"M 2906 1791 \n",
       "Q 2906 2416 2648 2759 \n",
       "Q 2391 3103 1925 3103 \n",
       "Q 1463 3103 1205 2759 \n",
       "Q 947 2416 947 1791 \n",
       "Q 947 1169 1205 825 \n",
       "Q 1463 481 1925 481 \n",
       "Q 2391 481 2648 825 \n",
       "Q 2906 1169 2906 1791 \n",
       "z\n",
       "M 3481 434 \n",
       "Q 3481 -459 3084 -895 \n",
       "Q 2688 -1331 1869 -1331 \n",
       "Q 1566 -1331 1297 -1286 \n",
       "Q 1028 -1241 775 -1147 \n",
       "L 775 -588 \n",
       "Q 1028 -725 1275 -790 \n",
       "Q 1522 -856 1778 -856 \n",
       "Q 2344 -856 2625 -561 \n",
       "Q 2906 -266 2906 331 \n",
       "L 2906 616 \n",
       "Q 2728 306 2450 153 \n",
       "Q 2172 0 1784 0 \n",
       "Q 1141 0 747 490 \n",
       "Q 353 981 353 1791 \n",
       "Q 353 2603 747 3093 \n",
       "Q 1141 3584 1784 3584 \n",
       "Q 2172 3584 2450 3431 \n",
       "Q 2728 3278 2906 2969 \n",
       "L 2906 3500 \n",
       "L 3481 3500 \n",
       "L 3481 434 \n",
       "z\n",
       "\" transform=\"scale(0.015625)\"/>\n",
       "       <path id=\"DejaVuSans-20\" transform=\"scale(0.015625)\"/>\n",
       "       <path id=\"DejaVuSans-6c\" d=\"M 603 4863 \n",
       "L 1178 4863 \n",
       "L 1178 0 \n",
       "L 603 0 \n",
       "L 603 4863 \n",
       "z\n",
       "\" transform=\"scale(0.015625)\"/>\n",
       "       <path id=\"DejaVuSans-6f\" d=\"M 1959 3097 \n",
       "Q 1497 3097 1228 2736 \n",
       "Q 959 2375 959 1747 \n",
       "Q 959 1119 1226 758 \n",
       "Q 1494 397 1959 397 \n",
       "Q 2419 397 2687 759 \n",
       "Q 2956 1122 2956 1747 \n",
       "Q 2956 2369 2687 2733 \n",
       "Q 2419 3097 1959 3097 \n",
       "z\n",
       "M 1959 3584 \n",
       "Q 2709 3584 3137 3096 \n",
       "Q 3566 2609 3566 1747 \n",
       "Q 3566 888 3137 398 \n",
       "Q 2709 -91 1959 -91 \n",
       "Q 1206 -91 779 398 \n",
       "Q 353 888 353 1747 \n",
       "Q 353 2609 779 3096 \n",
       "Q 1206 3584 1959 3584 \n",
       "z\n",
       "\" transform=\"scale(0.015625)\"/>\n",
       "       <path id=\"DejaVuSans-73\" d=\"M 2834 3397 \n",
       "L 2834 2853 \n",
       "Q 2591 2978 2328 3040 \n",
       "Q 2066 3103 1784 3103 \n",
       "Q 1356 3103 1142 2972 \n",
       "Q 928 2841 928 2578 \n",
       "Q 928 2378 1081 2264 \n",
       "Q 1234 2150 1697 2047 \n",
       "L 1894 2003 \n",
       "Q 2506 1872 2764 1633 \n",
       "Q 3022 1394 3022 966 \n",
       "Q 3022 478 2636 193 \n",
       "Q 2250 -91 1575 -91 \n",
       "Q 1294 -91 989 -36 \n",
       "Q 684 19 347 128 \n",
       "L 347 722 \n",
       "Q 666 556 975 473 \n",
       "Q 1284 391 1588 391 \n",
       "Q 1994 391 2212 530 \n",
       "Q 2431 669 2431 922 \n",
       "Q 2431 1156 2273 1281 \n",
       "Q 2116 1406 1581 1522 \n",
       "L 1381 1569 \n",
       "Q 847 1681 609 1914 \n",
       "Q 372 2147 372 2553 \n",
       "Q 372 3047 722 3315 \n",
       "Q 1072 3584 1716 3584 \n",
       "Q 2034 3584 2315 3537 \n",
       "Q 2597 3491 2834 3397 \n",
       "z\n",
       "\" transform=\"scale(0.015625)\"/>\n",
       "      </defs>\n",
       "      <use xlink:href=\"#DejaVuSans-54\"/>\n",
       "      <use xlink:href=\"#DejaVuSans-72\" x=\"46.333984\"/>\n",
       "      <use xlink:href=\"#DejaVuSans-61\" x=\"87.447266\"/>\n",
       "      <use xlink:href=\"#DejaVuSans-69\" x=\"148.726562\"/>\n",
       "      <use xlink:href=\"#DejaVuSans-6e\" x=\"176.509766\"/>\n",
       "      <use xlink:href=\"#DejaVuSans-69\" x=\"239.888672\"/>\n",
       "      <use xlink:href=\"#DejaVuSans-6e\" x=\"267.671875\"/>\n",
       "      <use xlink:href=\"#DejaVuSans-67\" x=\"331.050781\"/>\n",
       "      <use xlink:href=\"#DejaVuSans-20\" x=\"394.527344\"/>\n",
       "      <use xlink:href=\"#DejaVuSans-6c\" x=\"426.314453\"/>\n",
       "      <use xlink:href=\"#DejaVuSans-6f\" x=\"454.097656\"/>\n",
       "      <use xlink:href=\"#DejaVuSans-73\" x=\"515.279297\"/>\n",
       "      <use xlink:href=\"#DejaVuSans-73\" x=\"567.378906\"/>\n",
       "     </g>\n",
       "    </g>\n",
       "    <g id=\"line2d_16\">\n",
       "     <path d=\"M 49.065625 47.958419 \n",
       "L 63.065625 47.958419 \n",
       "L 77.065625 47.958419 \n",
       "\" style=\"fill: none; stroke: #ff7f0e; stroke-width: 1.5; stroke-linecap: square\"/>\n",
       "    </g>\n",
       "    <g id=\"text_14\">\n",
       "     <!-- Validation loss -->\n",
       "     <g transform=\"translate(88.265625 52.858419) scale(0.14 -0.14)\">\n",
       "      <defs>\n",
       "       <path id=\"DejaVuSans-56\" d=\"M 1831 0 \n",
       "L 50 4666 \n",
       "L 709 4666 \n",
       "L 2188 738 \n",
       "L 3669 4666 \n",
       "L 4325 4666 \n",
       "L 2547 0 \n",
       "L 1831 0 \n",
       "z\n",
       "\" transform=\"scale(0.015625)\"/>\n",
       "       <path id=\"DejaVuSans-64\" d=\"M 2906 2969 \n",
       "L 2906 4863 \n",
       "L 3481 4863 \n",
       "L 3481 0 \n",
       "L 2906 0 \n",
       "L 2906 525 \n",
       "Q 2725 213 2448 61 \n",
       "Q 2172 -91 1784 -91 \n",
       "Q 1150 -91 751 415 \n",
       "Q 353 922 353 1747 \n",
       "Q 353 2572 751 3078 \n",
       "Q 1150 3584 1784 3584 \n",
       "Q 2172 3584 2448 3432 \n",
       "Q 2725 3281 2906 2969 \n",
       "z\n",
       "M 947 1747 \n",
       "Q 947 1113 1208 752 \n",
       "Q 1469 391 1925 391 \n",
       "Q 2381 391 2643 752 \n",
       "Q 2906 1113 2906 1747 \n",
       "Q 2906 2381 2643 2742 \n",
       "Q 2381 3103 1925 3103 \n",
       "Q 1469 3103 1208 2742 \n",
       "Q 947 2381 947 1747 \n",
       "z\n",
       "\" transform=\"scale(0.015625)\"/>\n",
       "       <path id=\"DejaVuSans-74\" d=\"M 1172 4494 \n",
       "L 1172 3500 \n",
       "L 2356 3500 \n",
       "L 2356 3053 \n",
       "L 1172 3053 \n",
       "L 1172 1153 \n",
       "Q 1172 725 1289 603 \n",
       "Q 1406 481 1766 481 \n",
       "L 2356 481 \n",
       "L 2356 0 \n",
       "L 1766 0 \n",
       "Q 1100 0 847 248 \n",
       "Q 594 497 594 1153 \n",
       "L 594 3053 \n",
       "L 172 3053 \n",
       "L 172 3500 \n",
       "L 594 3500 \n",
       "L 594 4494 \n",
       "L 1172 4494 \n",
       "z\n",
       "\" transform=\"scale(0.015625)\"/>\n",
       "      </defs>\n",
       "      <use xlink:href=\"#DejaVuSans-56\"/>\n",
       "      <use xlink:href=\"#DejaVuSans-61\" x=\"60.658203\"/>\n",
       "      <use xlink:href=\"#DejaVuSans-6c\" x=\"121.9375\"/>\n",
       "      <use xlink:href=\"#DejaVuSans-69\" x=\"149.720703\"/>\n",
       "      <use xlink:href=\"#DejaVuSans-64\" x=\"177.503906\"/>\n",
       "      <use xlink:href=\"#DejaVuSans-61\" x=\"240.980469\"/>\n",
       "      <use xlink:href=\"#DejaVuSans-74\" x=\"302.259766\"/>\n",
       "      <use xlink:href=\"#DejaVuSans-69\" x=\"341.46875\"/>\n",
       "      <use xlink:href=\"#DejaVuSans-6f\" x=\"369.251953\"/>\n",
       "      <use xlink:href=\"#DejaVuSans-6e\" x=\"430.433594\"/>\n",
       "      <use xlink:href=\"#DejaVuSans-20\" x=\"493.8125\"/>\n",
       "      <use xlink:href=\"#DejaVuSans-6c\" x=\"525.599609\"/>\n",
       "      <use xlink:href=\"#DejaVuSans-6f\" x=\"553.382812\"/>\n",
       "      <use xlink:href=\"#DejaVuSans-73\" x=\"614.564453\"/>\n",
       "      <use xlink:href=\"#DejaVuSans-73\" x=\"666.664062\"/>\n",
       "     </g>\n",
       "    </g>\n",
       "   </g>\n",
       "  </g>\n",
       " </g>\n",
       " <defs>\n",
       "  <clipPath id=\"pdf27471f8c\">\n",
       "   <rect x=\"36.465625\" y=\"9.071232\" width=\"357.12\" height=\"266.112\"/>\n",
       "  </clipPath>\n",
       " </defs>\n",
       "</svg>\n"
      ],
      "text/plain": [
       "<Figure size 640x480 with 1 Axes>"
      ]
     },
     "metadata": {},
     "output_type": "display_data"
    }
   ],
   "source": [
    "plt.plot(train_losses, label=\"Training loss\")\n",
    "plt.plot(val_losses, label=\"Validation loss\")\n",
    "plt.legend(frameon=False)\n",
    "plt.show()"
   ]
  },
  {
   "cell_type": "code",
   "execution_count": null,
   "metadata": {},
   "outputs": [
    {
     "data": {
      "text/plain": [
       "<All keys matched successfully>"
      ]
     },
     "execution_count": 32,
     "metadata": {},
     "output_type": "execute_result"
    }
   ],
   "source": [
    "import glob\n",
    "\n",
    "if len(glob.glob(f\"{saving_path}/*.pth\")) > 0:\n",
    "    saved_model_params = glob.glob(f\"{saving_path}/*.pth\")[0]\n",
    "\n",
    "loaded_model = MLP(784, 10)\n",
    "# loaded_model = nn.Sequential(nn.Flatten(),\n",
    "#     nn.Linear(784, 300),\n",
    "#     nn.ReLU(),\n",
    "#     nn.Linear(300, 100),\n",
    "#     nn.ReLU(),\n",
    "#     nn.Linear(100, 10))\n",
    "loaded_model.load_state_dict(torch.load(saved_model_params))"
   ]
  },
  {
   "cell_type": "code",
   "execution_count": null,
   "metadata": {},
   "outputs": [],
   "source": []
  }
 ],
 "metadata": {
  "kernelspec": {
   "display_name": "Python 3 (ipykernel)",
   "language": "python",
   "name": "python3"
  },
  "language_info": {
   "codemirror_mode": {
    "name": "ipython",
    "version": 3
   },
   "file_extension": ".py",
   "mimetype": "text/x-python",
   "name": "python",
   "nbconvert_exporter": "python",
   "pygments_lexer": "ipython3",
   "version": "3.10.14"
  }
 },
 "nbformat": 4,
 "nbformat_minor": 4
}
